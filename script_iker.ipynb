{
 "cells": [
  {
   "cell_type": "code",
   "execution_count": 31,
   "id": "a382f702",
   "metadata": {},
   "outputs": [],
   "source": [
    "import os\n",
    "import json\n",
    "import gzip\n",
    "import pandas as pd\n",
    "from urllib.request import urlopen\n",
    "\n",
    "import random\n",
    "import numpy as np\n",
    "from tqdm import tqdm_notebook as tqdm\n",
    "#from tqdm import tqdm.notebook.tqdm as tqdm\n",
    "from collections import defaultdict\n",
    "\n",
    "import warnings\n",
    "warnings.filterwarnings(\"ignore\")"
   ]
  },
  {
   "cell_type": "markdown",
   "id": "f240d779",
   "metadata": {},
   "source": [
    "## Se importan los dataframes "
   ]
  },
  {
   "cell_type": "code",
   "execution_count": 32,
   "id": "d93b9346",
   "metadata": {},
   "outputs": [],
   "source": [
    "# load all metadata\n",
    "#hau nire diskan daukat SAD karpetan 2020-2021\n",
    "\n",
    "video_games = []#\n",
    "insurances = []   \n",
    "#dfMergedfMeta= pd.read_csv('Cell_Phones/SamsungAppleXiaomiReviews_prueba.csv')\n",
    "video_games= pd.read_csv('VG-Reviews5AndMetaElecNintSonyMic_v2.csv')\n",
    "insurances = pd.read_csv('HRBlockIntuitReviewsTrainDev_vLast7.csv', low_memory=False)\n"
   ]
  },
  {
   "cell_type": "code",
   "execution_count": 33,
   "id": "27c616d9",
   "metadata": {
    "scrolled": true
   },
   "outputs": [
    {
     "data": {
      "text/plain": [
       "Index(['Unnamed: 0', 'asin', 'vote', 'style', 'feature', 'similar_item',\n",
       "       'brand', 'also_buy', 'category', 'title', 'main_cat', 'description',\n",
       "       'reviewTime', 'overall', 'reviewerID', 'reviewerName', 'unixReviewTime',\n",
       "       'reviewText', 'summary', 'City', 'State', 'Country', 'Postal Code'],\n",
       "      dtype='object')"
      ]
     },
     "execution_count": 33,
     "metadata": {},
     "output_type": "execute_result"
    }
   ],
   "source": [
    "video_games.keys()"
   ]
  },
  {
   "cell_type": "code",
   "execution_count": 34,
   "id": "5021b42d",
   "metadata": {
    "scrolled": false
   },
   "outputs": [
    {
     "data": {
      "text/plain": [
       "by\\n    \\n    Electronic Arts                        19949\n",
       "by\\n    \\n    Nintendo                               16812\n",
       "by\\n    \\n    Sony                                   10915\n",
       "by\\n    \\n    Microsoft                               8810\n",
       "Nintendo                                              4660\n",
       "Electronic Arts                                       1780\n",
       "Sony                                                  1697\n",
       "Microsoft                                             1230\n",
       "Sony Computer Entertainment                            438\n",
       "by\\n    \\n    Sony Computer Entertainment America      106\n",
       "Nintendo of America                                     98\n",
       "Electronic Arts, Inc.                                   78\n",
       "by\\n    \\n    Sony Computer Entertainment               74\n",
       "Sony Entertainment                                      52\n",
       "Microsoft Corporation                                   44\n",
       "Super Nintendo Super Castlevania IV                     22\n",
       "Electronc Arts                                          20\n",
       "Electrobrain and Hudson                                  6\n",
       "by\\n    \\n    Sony Online Entertainment                  5\n",
       "Name: brand, dtype: int64"
      ]
     },
     "execution_count": 34,
     "metadata": {},
     "output_type": "execute_result"
    }
   ],
   "source": [
    "video_games['brand'].value_counts()"
   ]
  },
  {
   "cell_type": "code",
   "execution_count": 35,
   "id": "f5327286",
   "metadata": {},
   "outputs": [
    {
     "data": {
      "text/plain": [
       "Index(['Unnamed: 0', 'asin', 'brand', 'price', 'title', 'Unnamed: 5',\n",
       "       'category', 'rank', 'description', 'main_cat', 'details', 'overall',\n",
       "       'vote_y', 'verified_y', 'reviewTime_y', 'reviewerID_y',\n",
       "       'reviewerName_y', 'reviewText', 'summary', 'unixReviewTime', 'State',\n",
       "       'Country', 'Postal Code'],\n",
       "      dtype='object')"
      ]
     },
     "execution_count": 35,
     "metadata": {},
     "output_type": "execute_result"
    }
   ],
   "source": [
    "insurances.keys()"
   ]
  },
  {
   "cell_type": "code",
   "execution_count": 36,
   "id": "02b5c3f1",
   "metadata": {},
   "outputs": [
    {
     "data": {
      "text/plain": [
       "Intuit                              72752\n",
       "H&R Block                           16242\n",
       "by\\n    \\n    Intuit                 9488\n",
       "HRBB9                                 657\n",
       "H&amp;R Block                         358\n",
       "by\\n    \\n    H&R Block               195\n",
       "Intuit, Inc.                           27\n",
       "H&R BLCOK                              17\n",
       "John Truby Blockbuster                 15\n",
       "Video Blocks                            4\n",
       "Administaff HRTools                     4\n",
       "H & R Block                             4\n",
       "Intuit Inc.                             3\n",
       "Teneron/Block Financial Software        3\n",
       "H&R                                     3\n",
       "H&R BLOCK                               2\n",
       "Intuit Inc./BlueHippo                   2\n",
       "Name: brand, dtype: int64"
      ]
     },
     "execution_count": 36,
     "metadata": {},
     "output_type": "execute_result"
    }
   ],
   "source": [
    "insurances['brand'].value_counts()"
   ]
  },
  {
   "cell_type": "markdown",
   "id": "fb8d878d",
   "metadata": {},
   "source": [
    "## Se obtienen en dataframes aparte las distintas marcas"
   ]
  },
  {
   "cell_type": "code",
   "execution_count": 37,
   "id": "ce6d3f0b",
   "metadata": {},
   "outputs": [],
   "source": [
    "dfNintendo = video_games[video_games['brand'].str.contains('Nintendo',na=False)]"
   ]
  },
  {
   "cell_type": "code",
   "execution_count": 38,
   "id": "995cf11d",
   "metadata": {},
   "outputs": [],
   "source": [
    "dfSony = video_games[video_games['brand'].str.contains('Sony|PlayStation|Electr',na=False)]"
   ]
  },
  {
   "cell_type": "code",
   "execution_count": 39,
   "id": "d4ae4961",
   "metadata": {},
   "outputs": [],
   "source": [
    "dfMicrosoft = video_games[video_games['brand'].str.contains('[M|m]icrosoft',na=False)]"
   ]
  },
  {
   "cell_type": "code",
   "execution_count": 40,
   "id": "96115ce4",
   "metadata": {},
   "outputs": [],
   "source": [
    "dfIntuit = insurances[insurances['brand'].str.contains('Intuit')]"
   ]
  },
  {
   "cell_type": "code",
   "execution_count": 41,
   "id": "53c304ad",
   "metadata": {},
   "outputs": [],
   "source": [
    "dfHR = insurances[~insurances['brand'].str.contains('Intuit')]"
   ]
  },
  {
   "cell_type": "markdown",
   "id": "595e0f62",
   "metadata": {},
   "source": [
    "## Se separan las reviews negativas y positivas de cada dataframe"
   ]
  },
  {
   "cell_type": "code",
   "execution_count": 42,
   "id": "faa65796",
   "metadata": {},
   "outputs": [],
   "source": [
    "dfNintendoPositives=dfNintendo[dfNintendo['overall']>3]\n",
    "dfNintendoNegatives=dfNintendo[dfNintendo['overall']<=3]"
   ]
  },
  {
   "cell_type": "code",
   "execution_count": 43,
   "id": "61624c7e",
   "metadata": {},
   "outputs": [],
   "source": [
    "dfSonyPositives=dfSony[dfSony['overall']>3]\n",
    "dfSonyNegatives=dfSony[dfSony['overall']<=3]"
   ]
  },
  {
   "cell_type": "code",
   "execution_count": 44,
   "id": "8e062310",
   "metadata": {},
   "outputs": [],
   "source": [
    "dfMicrosoftPositives=dfMicrosoft[dfMicrosoft['overall']>3]\n",
    "dfMicrosoftNegatives=dfMicrosoft[dfMicrosoft['overall']<=3]"
   ]
  },
  {
   "cell_type": "code",
   "execution_count": 45,
   "id": "61e2f2c2",
   "metadata": {},
   "outputs": [],
   "source": [
    "dfIntuitPositives = dfIntuit[dfIntuit['overall']>3]\n",
    "dfIntuitNegatives = dfIntuit[dfIntuit['overall']<=3]"
   ]
  },
  {
   "cell_type": "code",
   "execution_count": 46,
   "id": "684535e0",
   "metadata": {},
   "outputs": [],
   "source": [
    "dfHRPositives = dfHR[dfHR['overall']>3]\n",
    "dfHRNegatives = dfHR[dfHR['overall']<=3]"
   ]
  },
  {
   "cell_type": "markdown",
   "id": "8d7158fc",
   "metadata": {},
   "source": [
    "## Se obtienen las text reviews"
   ]
  },
  {
   "cell_type": "code",
   "execution_count": 47,
   "id": "8142ad75",
   "metadata": {},
   "outputs": [],
   "source": [
    "nintendoPositivesDocuments = dfNintendoPositives[dfNintendoPositives['reviewText'].notna()]['reviewText'].tolist()\n",
    "nintendoNegativesDocuments = dfNintendoNegatives[dfNintendoNegatives['reviewText'].notna()]['reviewText'].tolist()"
   ]
  },
  {
   "cell_type": "code",
   "execution_count": 48,
   "id": "973ae4fa",
   "metadata": {},
   "outputs": [],
   "source": [
    "sonyPositivesDocuments = dfSonyPositives[dfSonyPositives['reviewText'].notna()]['reviewText'].tolist()\n",
    "sonyNegativesDocuments = dfSonyNegatives[dfSonyNegatives['reviewText'].notna()]['reviewText'].tolist()"
   ]
  },
  {
   "cell_type": "code",
   "execution_count": 49,
   "id": "78a66c4e",
   "metadata": {},
   "outputs": [],
   "source": [
    "microsoftPositivesDocuments = dfMicrosoftPositives[dfMicrosoftPositives['reviewText'].notna()]['reviewText'].tolist()\n",
    "microsoftNegativesDocuments = dfMicrosoftNegatives[dfMicrosoftNegatives['reviewText'].notna()]['reviewText'].tolist()"
   ]
  },
  {
   "cell_type": "code",
   "execution_count": 50,
   "id": "bcc85b9d",
   "metadata": {},
   "outputs": [],
   "source": [
    "intuitPositivesDocuments = dfIntuitPositives[dfIntuitPositives['reviewText'].notna()]['reviewText'].tolist()\n",
    "intuitNegativesDocuments = dfIntuitNegatives[dfIntuitNegatives['reviewText'].notna()]['reviewText'].tolist()"
   ]
  },
  {
   "cell_type": "code",
   "execution_count": 23,
   "id": "523a0f1b",
   "metadata": {},
   "outputs": [],
   "source": [
    "HRPositivesDocuments = dfHRPositives[dfHRPositives['reviewText'].notna()]['reviewText'].tolist()\n",
    "HRNegativesDocuments = dfHRNegatives[dfHRNegatives['reviewText'].notna()]['reviewText'].tolist()"
   ]
  },
  {
   "cell_type": "markdown",
   "id": "94968efd",
   "metadata": {},
   "source": [
    "## LDA"
   ]
  },
  {
   "cell_type": "code",
   "execution_count": null,
   "id": "b5c11086",
   "metadata": {},
   "outputs": [],
   "source": [
    "def display_topics(H, W, feature_names, documents,output_name, no_top_words = 30, no_top_documents = 10):\n",
    "    f = open(output_name + \".txt\", \"a\")\n",
    "    for topic_idx, topic in enumerate(H):\n",
    "        s = \"Topic: \" + str(topic_idx) + \" -->\"\n",
    "        print(s)\n",
    "        f.write(s)\n",
    "        s = ''.join([' ' +feature_names[i] + ' ' + str(round(topic[i], 5)) \n",
    "                for i in topic.argsort()[:-no_top_words - 1:-1]])\n",
    "        print(s)\n",
    "        f.write(s)\n",
    "        top_doc_indices = np.argsort( W[:,topic_idx] )[::-1][0:no_top_documents]\n",
    "        docProbArray=np.argsort(W[:,topic_idx])\n",
    "        print(docProbArray)\n",
    "    \n",
    "        #for doc_index in top_doc_indices:\n",
    "        #    print(documents[doc_index])\n",
    "        f.write(\"\\n\")\n",
    "    f.close()"
   ]
  },
  {
   "cell_type": "code",
   "execution_count": null,
   "id": "9434c476",
   "metadata": {},
   "outputs": [],
   "source": [
    "from sklearn.feature_extraction.text import TfidfVectorizer, CountVectorizer\n",
    "from sklearn.decomposition import LatentDirichletAllocation"
   ]
  },
  {
   "cell_type": "markdown",
   "id": "a6bc5818",
   "metadata": {},
   "source": [
    "### LDASonyNeg_29_1.9"
   ]
  },
  {
   "cell_type": "code",
   "execution_count": null,
   "id": "fc97a5d2",
   "metadata": {},
   "outputs": [],
   "source": [
    "no_topics = 29\n",
    "\n",
    "alpha = 1.9\n",
    "beta = 1.9\n",
    "\n",
    "documents = sonyNegativesDocuments"
   ]
  },
  {
   "cell_type": "code",
   "execution_count": null,
   "id": "9b1bd10c",
   "metadata": {},
   "outputs": [],
   "source": [
    "tf_vectorizer = CountVectorizer(max_df=0.95, min_df=2, stop_words='english')\n",
    "tf = tf_vectorizer.fit_transform(documents)\n",
    "tf_feature_names = tf_vectorizer.get_feature_names()"
   ]
  },
  {
   "cell_type": "code",
   "execution_count": null,
   "id": "62f9911c",
   "metadata": {},
   "outputs": [],
   "source": [
    "lda_model = LatentDirichletAllocation(n_components=no_topics, doc_topic_prior=alpha, topic_word_prior=beta, max_iter=100, learning_method='online', learning_offset=50.,random_state=0).fit(tf)\n",
    "lda_W = lda_model.transform(tf)\n",
    "lda_H = lda_model.components_"
   ]
  },
  {
   "cell_type": "code",
   "execution_count": null,
   "id": "510d5c19",
   "metadata": {},
   "outputs": [],
   "source": [
    "display_topics(lda_H, lda_W, tf_feature_names, documents, 'LDASonyNeg_29_1.9')"
   ]
  },
  {
   "cell_type": "markdown",
   "id": "22246753",
   "metadata": {},
   "source": [
    "### LDAMicroPos_21_1.9"
   ]
  },
  {
   "cell_type": "code",
   "execution_count": null,
   "id": "a88bbc21",
   "metadata": {},
   "outputs": [],
   "source": [
    "no_topics = 21\n",
    "\n",
    "alpha = 1.9\n",
    "beta = 1.9\n",
    "\n",
    "documents = microsoftPositivesDocuments"
   ]
  },
  {
   "cell_type": "code",
   "execution_count": null,
   "id": "3ddadbf4",
   "metadata": {},
   "outputs": [],
   "source": [
    "tf_vectorizer = CountVectorizer(max_df=0.95, min_df=2, stop_words='english')\n",
    "tf = tf_vectorizer.fit_transform(documents)\n",
    "tf_feature_names = tf_vectorizer.get_feature_names()"
   ]
  },
  {
   "cell_type": "code",
   "execution_count": null,
   "id": "082b9d0d",
   "metadata": {},
   "outputs": [],
   "source": [
    "lda_model = LatentDirichletAllocation(n_components=no_topics, doc_topic_prior=alpha, topic_word_prior=beta, max_iter=100, learning_method='online', learning_offset=50.,random_state=0).fit(tf)\n",
    "lda_W = lda_model.transform(tf)\n",
    "lda_H = lda_model.components_"
   ]
  },
  {
   "cell_type": "code",
   "execution_count": null,
   "id": "cf4fa281",
   "metadata": {},
   "outputs": [],
   "source": [
    "display_topics(lda_H, lda_W, tf_feature_names, documents, 'LDAMicroPos_21_1.9')"
   ]
  },
  {
   "cell_type": "markdown",
   "id": "49ae21eb",
   "metadata": {},
   "source": [
    "### LDAMicroNeg_16_1.9"
   ]
  },
  {
   "cell_type": "code",
   "execution_count": null,
   "id": "bab864ce",
   "metadata": {},
   "outputs": [],
   "source": [
    "no_topics = 16\n",
    "\n",
    "alpha = 1.9\n",
    "beta = 1.9\n",
    "\n",
    "documents = microsoftNegativesDocuments"
   ]
  },
  {
   "cell_type": "code",
   "execution_count": null,
   "id": "a19f7796",
   "metadata": {},
   "outputs": [],
   "source": [
    "tf_vectorizer = CountVectorizer(max_df=0.95, min_df=2, stop_words='english')\n",
    "tf = tf_vectorizer.fit_transform(documents)\n",
    "tf_feature_names = tf_vectorizer.get_feature_names()"
   ]
  },
  {
   "cell_type": "code",
   "execution_count": null,
   "id": "eafadc48",
   "metadata": {},
   "outputs": [],
   "source": [
    "lda_model = LatentDirichletAllocation(n_components=no_topics, doc_topic_prior=alpha, topic_word_prior=beta, max_iter=100, learning_method='online', learning_offset=50.,random_state=0).fit(tf)\n",
    "lda_W = lda_model.transform(tf)\n",
    "lda_H = lda_model.components_"
   ]
  },
  {
   "cell_type": "code",
   "execution_count": null,
   "id": "ee75c5b1",
   "metadata": {},
   "outputs": [],
   "source": [
    "display_topics(lda_H, lda_W, tf_feature_names, documents, 'LDAMicroNeg_16_1.9')"
   ]
  },
  {
   "cell_type": "markdown",
   "id": "49aafde3",
   "metadata": {},
   "source": [
    "## GENSIM"
   ]
  },
  {
   "cell_type": "code",
   "execution_count": 51,
   "id": "61563167",
   "metadata": {},
   "outputs": [
    {
     "name": "stderr",
     "output_type": "stream",
     "text": [
      "[nltk_data] Downloading package wordnet to /home/eiros/nltk_data...\n",
      "[nltk_data]   Package wordnet is already up-to-date!\n",
      "[nltk_data] Downloading package omw-1.4 to /home/eiros/nltk_data...\n",
      "[nltk_data]   Package omw-1.4 is already up-to-date!\n"
     ]
    }
   ],
   "source": [
    "import logging\n",
    "import nltk\n",
    "from nltk.tokenize import RegexpTokenizer\n",
    "from nltk.stem.wordnet import WordNetLemmatizer\n",
    "import gensim\n",
    "from gensim.corpora import Dictionary\n",
    "from gensim.models import LdaModel\n",
    "from pprint import pprint\n",
    "nltk.download('wordnet')\n",
    "nltk.download('omw-1.4')\n",
    "\n",
    "logging.basicConfig(format='%(asctime)s : %(levelname)s : %(message)s', level=logging.INFO)"
   ]
  },
  {
   "cell_type": "code",
   "execution_count": 52,
   "id": "8b1050c7",
   "metadata": {},
   "outputs": [],
   "source": [
    "def preproceso(docs):\n",
    "    # Tokenize \n",
    "    tokenizer = RegexpTokenizer(r'\\w+')\n",
    "    for idx in range(len(docs)):\n",
    "        docs[idx] = docs[idx].lower()  # Convert to lowercase.\n",
    "        docs[idx] = tokenizer.tokenize(docs[idx])  # Split into words.\n",
    "\n",
    "    # Remove numbers, but not words that contain numbers.\n",
    "    docs = [[token for token in doc if not token.isnumeric()] for doc in docs]\n",
    "\n",
    "    # Remove words that are only one character.\n",
    "    docs = [[token for token in doc if len(token) > 1] for doc in docs]\n",
    "\n",
    "    # Remove stopwords\n",
    "    stopwords = gensim.parsing.preprocessing.STOPWORDS\n",
    "    docs = [[token for token in doc if not(token in stopwords)] for doc in docs]\n",
    "\n",
    "    # Lemmatize\n",
    "    lemmatizer = WordNetLemmatizer()\n",
    "    docs = [[lemmatizer.lemmatize(token) for token in doc] for doc in docs]\n",
    "\n",
    "    # Bag-of-words\n",
    "    dictionary = Dictionary(docs)\n",
    "\n",
    "    corpus = [dictionary.doc2bow(doc) for doc in docs]\n",
    "    print('Number of unique tokens: %d' % len(dictionary))\n",
    "    print('Number of documents: %d' % len(corpus))\n",
    "\n",
    "    return corpus , dictionary"
   ]
  },
  {
   "cell_type": "markdown",
   "id": "b340d8b4",
   "metadata": {},
   "source": [
    "### GensimMicroPos"
   ]
  },
  {
   "cell_type": "code",
   "execution_count": 57,
   "id": "5a31c271",
   "metadata": {},
   "outputs": [],
   "source": [
    "def gen_model(num_topics,corpus, dictionary):\n",
    "    chunksize = 2000\n",
    "    passes = 20\n",
    "    iterations = 400\n",
    "    eval_every = None  # Don't evaluate model perplexity, takes too much time.\n",
    "\n",
    "    # Make an index to word dictionary.\n",
    "    temp = dictionary[0]  # This is only to \"load\" the dictionary.\n",
    "    id2word = dictionary.id2token\n",
    "\n",
    "    model = LdaModel(\n",
    "        corpus=corpus,\n",
    "        id2word=id2word,\n",
    "        chunksize=chunksize,\n",
    "        alpha='auto',\n",
    "        eta='auto',\n",
    "        iterations=iterations,\n",
    "        num_topics=num_topics,\n",
    "        passes=passes,\n",
    "        eval_every=eval_every\n",
    "    )\n",
    "\n",
    "    return model"
   ]
  },
  {
   "cell_type": "markdown",
   "id": "4f0ad1bb",
   "metadata": {},
   "source": [
    "### GensimMicroPos"
   ]
  },
  {
   "cell_type": "code",
   "execution_count": 54,
   "id": "631732a2",
   "metadata": {},
   "outputs": [
    {
     "name": "stderr",
     "output_type": "stream",
     "text": [
      "2022-05-21 20:53:03,335 : INFO : adding document #0 to Dictionary<0 unique tokens: []>\n",
      "2022-05-21 20:53:03,988 : INFO : built Dictionary<25005 unique tokens: ['best', 'buy', 'came', 'card', 'compared']...> from 7715 documents (total 711667 corpus positions)\n",
      "2022-05-21 20:53:03,989 : INFO : Dictionary lifecycle event {'msg': \"built Dictionary<25005 unique tokens: ['best', 'buy', 'came', 'card', 'compared']...> from 7715 documents (total 711667 corpus positions)\", 'datetime': '2022-05-21T20:53:03.989787', 'gensim': '4.2.0', 'python': '3.10.4 (main, Apr  2 2022, 09:04:19) [GCC 11.2.0]', 'platform': 'Linux-5.17.5-76051705-generic-x86_64-with-glibc2.35', 'event': 'created'}\n"
     ]
    },
    {
     "name": "stdout",
     "output_type": "stream",
     "text": [
      "Number of unique tokens: 25005\n",
      "Number of documents: 7715\n"
     ]
    }
   ],
   "source": [
    "corpus,dictionary = preproceso(microsoftPositivesDocuments)"
   ]
  },
  {
   "cell_type": "code",
   "execution_count": null,
   "id": "89f3efb8",
   "metadata": {},
   "outputs": [],
   "source": [
    "f = open('GensimMicroPos[10-100]' + \".txt\", \"a\")\n",
    "for i in range(10,101):\n",
    "    print(\"Generando modelo: \" + str(i))\n",
    "    model_act=gen_model(i,corpus)\n",
    "    top_topics = model_act.top_topics(corpus)\n",
    "    f.write('Modelo con %i clusters -->' % i)\n",
    "    for frec, word in top_topics[0][0]:\n",
    "        f.write(\" \" + word + \" \" + str(frec) + \" |\")\n",
    "    f.write(\"\\n\\n\")\n",
    "f.close()"
   ]
  },
  {
   "cell_type": "markdown",
   "id": "b78326a0",
   "metadata": {},
   "source": [
    "### GensimMicroNeg"
   ]
  },
  {
   "cell_type": "code",
   "execution_count": null,
   "id": "2213adb5",
   "metadata": {},
   "outputs": [],
   "source": [
    "corpus,dictionary = preproceso(microsoftNegativesDocuments)"
   ]
  },
  {
   "cell_type": "code",
   "execution_count": null,
   "id": "c1dcb5a7",
   "metadata": {},
   "outputs": [],
   "source": [
    "f = open('GensimMicroNeg[10-100]' + \".txt\", \"a\")\n",
    "for i in range(10,101):\n",
    "    print(\"Generando modelo: \" + str(i))\n",
    "    model_act=gen_model(i,corpus)\n",
    "    top_topics = model_act.top_topics(corpus)\n",
    "    f.write('Modelo con %i clusters -->' % i)\n",
    "    for frec, word in top_topics[0][0]:\n",
    "        f.write(\" \" + word + \" \" + str(frec) + \" |\")\n",
    "    f.write(\"\\n\\n\")\n",
    "f.close()"
   ]
  }
 ],
 "metadata": {
  "interpreter": {
   "hash": "916dbcbb3f70747c44a77c7bcd40155683ae19c65e1c03b4aa3499c5328201f1"
  },
  "kernelspec": {
   "display_name": "Python 3 (ipykernel)",
   "language": "python",
   "name": "python3"
  },
  "language_info": {
   "codemirror_mode": {
    "name": "ipython",
    "version": 3
   },
   "file_extension": ".py",
   "mimetype": "text/x-python",
   "name": "python",
   "nbconvert_exporter": "python",
   "pygments_lexer": "ipython3",
   "version": "3.10.4"
  }
 },
 "nbformat": 4,
 "nbformat_minor": 5
}
