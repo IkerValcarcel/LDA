{
 "cells": [
  {
   "cell_type": "code",
   "execution_count": 2,
   "id": "a382f702",
   "metadata": {},
   "outputs": [],
   "source": [
    "import os\n",
    "import json\n",
    "import gzip\n",
    "import pandas as pd\n",
    "from urllib.request import urlopen\n",
    "\n",
    "import random\n",
    "import numpy as np\n",
    "from tqdm import tqdm_notebook as tqdm\n",
    "#from tqdm import tqdm.notebook.tqdm as tqdm\n",
    "from collections import defaultdict\n",
    "\n",
    "import warnings\n",
    "warnings.filterwarnings(\"ignore\")"
   ]
  },
  {
   "cell_type": "markdown",
   "id": "f240d779",
   "metadata": {},
   "source": [
    "## Se importan los dataframes "
   ]
  },
  {
   "cell_type": "code",
   "execution_count": 3,
   "id": "d93b9346",
   "metadata": {},
   "outputs": [],
   "source": [
    "# load all metadata\n",
    "#hau nire diskan daukat SAD karpetan 2020-2021\n",
    "\n",
    "video_games = []#\n",
    "insurances = []   \n",
    "#dfMergedfMeta= pd.read_csv('Cell_Phones/SamsungAppleXiaomiReviews_prueba.csv')\n",
    "video_games= pd.read_csv('VG-Reviews5AndMetaElecNintSonyMic_v2.csv')\n",
    "insurances = pd.read_csv('HRBlockIntuitReviewsTrainDev_vLast7.csv', low_memory=False)\n"
   ]
  },
  {
   "cell_type": "code",
   "execution_count": 4,
   "id": "27c616d9",
   "metadata": {
    "scrolled": true
   },
   "outputs": [
    {
     "data": {
      "text/plain": [
       "Index(['Unnamed: 0', 'asin', 'vote', 'style', 'feature', 'similar_item',\n",
       "       'brand', 'also_buy', 'category', 'title', 'main_cat', 'description',\n",
       "       'reviewTime', 'overall', 'reviewerID', 'reviewerName', 'unixReviewTime',\n",
       "       'reviewText', 'summary', 'City', 'State', 'Country', 'Postal Code'],\n",
       "      dtype='object')"
      ]
     },
     "execution_count": 4,
     "metadata": {},
     "output_type": "execute_result"
    }
   ],
   "source": [
    "video_games.keys()"
   ]
  },
  {
   "cell_type": "code",
   "execution_count": 5,
   "id": "5021b42d",
   "metadata": {
    "scrolled": false
   },
   "outputs": [
    {
     "data": {
      "text/plain": [
       "by\\n    \\n    Electronic Arts                        19949\n",
       "by\\n    \\n    Nintendo                               16812\n",
       "by\\n    \\n    Sony                                   10915\n",
       "by\\n    \\n    Microsoft                               8810\n",
       "Nintendo                                              4660\n",
       "Electronic Arts                                       1780\n",
       "Sony                                                  1697\n",
       "Microsoft                                             1230\n",
       "Sony Computer Entertainment                            438\n",
       "by\\n    \\n    Sony Computer Entertainment America      106\n",
       "Nintendo of America                                     98\n",
       "Electronic Arts, Inc.                                   78\n",
       "by\\n    \\n    Sony Computer Entertainment               74\n",
       "Sony Entertainment                                      52\n",
       "Microsoft Corporation                                   44\n",
       "Super Nintendo Super Castlevania IV                     22\n",
       "Electronc Arts                                          20\n",
       "Electrobrain and Hudson                                  6\n",
       "by\\n    \\n    Sony Online Entertainment                  5\n",
       "Name: brand, dtype: int64"
      ]
     },
     "execution_count": 5,
     "metadata": {},
     "output_type": "execute_result"
    }
   ],
   "source": [
    "video_games['brand'].value_counts()"
   ]
  },
  {
   "cell_type": "code",
   "execution_count": 6,
   "id": "f5327286",
   "metadata": {},
   "outputs": [
    {
     "data": {
      "text/plain": [
       "Index(['Unnamed: 0', 'asin', 'brand', 'price', 'title', 'Unnamed: 5',\n",
       "       'category', 'rank', 'description', 'main_cat', 'details', 'overall',\n",
       "       'vote_y', 'verified_y', 'reviewTime_y', 'reviewerID_y',\n",
       "       'reviewerName_y', 'reviewText', 'summary', 'unixReviewTime', 'State',\n",
       "       'Country', 'Postal Code'],\n",
       "      dtype='object')"
      ]
     },
     "execution_count": 6,
     "metadata": {},
     "output_type": "execute_result"
    }
   ],
   "source": [
    "insurances.keys()"
   ]
  },
  {
   "cell_type": "code",
   "execution_count": 7,
   "id": "02b5c3f1",
   "metadata": {},
   "outputs": [
    {
     "data": {
      "text/plain": [
       "Intuit                              72752\n",
       "H&R Block                           16242\n",
       "by\\n    \\n    Intuit                 9488\n",
       "HRBB9                                 657\n",
       "H&amp;R Block                         358\n",
       "by\\n    \\n    H&R Block               195\n",
       "Intuit, Inc.                           27\n",
       "H&R BLCOK                              17\n",
       "John Truby Blockbuster                 15\n",
       "Video Blocks                            4\n",
       "Administaff HRTools                     4\n",
       "H & R Block                             4\n",
       "Intuit Inc.                             3\n",
       "Teneron/Block Financial Software        3\n",
       "H&R                                     3\n",
       "H&R BLOCK                               2\n",
       "Intuit Inc./BlueHippo                   2\n",
       "Name: brand, dtype: int64"
      ]
     },
     "execution_count": 7,
     "metadata": {},
     "output_type": "execute_result"
    }
   ],
   "source": [
    "insurances['brand'].value_counts()"
   ]
  },
  {
   "cell_type": "markdown",
   "id": "fb8d878d",
   "metadata": {},
   "source": [
    "## Se obtienen en dataframes aparte las distintas marcas"
   ]
  },
  {
   "cell_type": "code",
   "execution_count": 8,
   "id": "ce6d3f0b",
   "metadata": {},
   "outputs": [],
   "source": [
    "dfNintendo = video_games[video_games['brand'].str.contains('Nintendo',na=False)]"
   ]
  },
  {
   "cell_type": "code",
   "execution_count": 9,
   "id": "995cf11d",
   "metadata": {},
   "outputs": [],
   "source": [
    "dfSony = video_games[video_games['brand'].str.contains('Sony|PlayStation|Electr',na=False)]"
   ]
  },
  {
   "cell_type": "code",
   "execution_count": 10,
   "id": "d4ae4961",
   "metadata": {},
   "outputs": [],
   "source": [
    "dfMicrosoft = video_games[video_games['brand'].str.contains('[M|m]icrosoft',na=False)]"
   ]
  },
  {
   "cell_type": "code",
   "execution_count": 11,
   "id": "96115ce4",
   "metadata": {},
   "outputs": [],
   "source": [
    "dfIntuit = insurances[insurances['brand'].str.contains('Intuit')]"
   ]
  },
  {
   "cell_type": "code",
   "execution_count": 12,
   "id": "53c304ad",
   "metadata": {},
   "outputs": [],
   "source": [
    "dfHR = insurances[~insurances['brand'].str.contains('Intuit')]"
   ]
  },
  {
   "cell_type": "markdown",
   "id": "595e0f62",
   "metadata": {},
   "source": [
    "## Se separan las reviews negativas y positivas de cada dataframe"
   ]
  },
  {
   "cell_type": "code",
   "execution_count": 13,
   "id": "faa65796",
   "metadata": {},
   "outputs": [],
   "source": [
    "dfNintendoPositives=dfNintendo[dfNintendo['overall']>3]\n",
    "dfNintendoNegatives=dfNintendo[dfNintendo['overall']<=3]"
   ]
  },
  {
   "cell_type": "code",
   "execution_count": 14,
   "id": "61624c7e",
   "metadata": {},
   "outputs": [],
   "source": [
    "dfSonyPositives=dfSony[dfSony['overall']>3]\n",
    "dfSonyNegatives=dfSony[dfSony['overall']<=3]"
   ]
  },
  {
   "cell_type": "code",
   "execution_count": 15,
   "id": "8e062310",
   "metadata": {},
   "outputs": [],
   "source": [
    "dfMicrosoftPositives=dfMicrosoft[dfMicrosoft['overall']>3]\n",
    "dfMicrosoftNegatives=dfMicrosoft[dfMicrosoft['overall']<=3]"
   ]
  },
  {
   "cell_type": "code",
   "execution_count": 16,
   "id": "61e2f2c2",
   "metadata": {},
   "outputs": [],
   "source": [
    "dfIntuitPositives = dfIntuit[dfIntuit['overall']>3]\n",
    "dfIntuitNegatives = dfIntuit[dfIntuit['overall']<=3]"
   ]
  },
  {
   "cell_type": "code",
   "execution_count": 17,
   "id": "684535e0",
   "metadata": {},
   "outputs": [],
   "source": [
    "dfHRPositives = dfHR[dfHR['overall']>3]\n",
    "dfHRNegatives = dfHR[dfHR['overall']<=3]"
   ]
  },
  {
   "cell_type": "markdown",
   "id": "8d7158fc",
   "metadata": {},
   "source": [
    "## Se obtienen las text reviews"
   ]
  },
  {
   "cell_type": "code",
   "execution_count": 18,
   "id": "8142ad75",
   "metadata": {},
   "outputs": [],
   "source": [
    "nintendoPositivesDocuments = dfNintendoPositives[dfNintendoPositives['reviewText'].notna()]['reviewText'].tolist()\n",
    "nintendoNegativesDocuments = dfNintendoNegatives[dfNintendoNegatives['reviewText'].notna()]['reviewText'].tolist()"
   ]
  },
  {
   "cell_type": "code",
   "execution_count": 19,
   "id": "973ae4fa",
   "metadata": {},
   "outputs": [],
   "source": [
    "sonyPositivesDocuments = dfSonyPositives[dfSonyPositives['reviewText'].notna()]['reviewText'].tolist()\n",
    "sonyNegativesDocuments = dfSonyNegatives[dfSonyNegatives['reviewText'].notna()]['reviewText'].tolist()"
   ]
  },
  {
   "cell_type": "code",
   "execution_count": 20,
   "id": "78a66c4e",
   "metadata": {},
   "outputs": [],
   "source": [
    "microsoftPositivesDocuments = dfMicrosoftPositives[dfMicrosoftPositives['reviewText'].notna()]['reviewText'].tolist()\n",
    "microsoftNegativesDocuments = dfMicrosoftNegatives[dfMicrosoftNegatives['reviewText'].notna()]['reviewText'].tolist()"
   ]
  },
  {
   "cell_type": "code",
   "execution_count": 21,
   "id": "bcc85b9d",
   "metadata": {},
   "outputs": [],
   "source": [
    "intuitPositivesDocuments = dfIntuitPositives[dfIntuitPositives['reviewText'].notna()]['reviewText'].tolist()\n",
    "intuitNegativesDocuments = dfIntuitNegatives[dfIntuitNegatives['reviewText'].notna()]['reviewText'].tolist()"
   ]
  },
  {
   "cell_type": "code",
   "execution_count": 22,
   "id": "523a0f1b",
   "metadata": {},
   "outputs": [],
   "source": [
    "HRPositivesDocuments = dfHRPositives[dfHRPositives['reviewText'].notna()]['reviewText'].tolist()\n",
    "HRNegativesDocuments = dfHRNegatives[dfHRNegatives['reviewText'].notna()]['reviewText'].tolist()"
   ]
  },
  {
   "cell_type": "markdown",
   "id": "94968efd",
   "metadata": {},
   "source": [
    "## LDA"
   ]
  },
  {
   "cell_type": "code",
   "execution_count": 47,
   "id": "b5c11086",
   "metadata": {},
   "outputs": [],
   "source": [
    "def display_topics(H, W, feature_names, documents,output_name, no_top_words, no_top_documents):\n",
    "    f = open(output_name + \".txt\", \"a\")\n",
    "    for topic_idx, topic in enumerate(H):\n",
    "        s = \"Topic: \" + str(topic_idx) + \" -->\"\n",
    "        print(s)\n",
    "        f.write(s)\n",
    "        s = ''.join([' ' +feature_names[i] + ' ' + str(round(topic[i], 5)) \n",
    "                for i in topic.argsort()[:-no_top_words - 1:-1]])\n",
    "        print(s)\n",
    "        f.write(s)\n",
    "        top_doc_indices = np.argsort( W[:,topic_idx] )[::-1][0:no_top_documents]\n",
    "        docProbArray=np.argsort(W[:,topic_idx])\n",
    "        print(docProbArray)\n",
    "    \n",
    "        #for doc_index in top_doc_indices:\n",
    "        #    print(documents[doc_index])\n",
    "        f.write(\"\\n\")\n",
    "\n"
   ]
  },
  {
   "cell_type": "code",
   "execution_count": 24,
   "id": "eb600785",
   "metadata": {},
   "outputs": [],
   "source": [
    "from sklearn.feature_extraction.text import TfidfVectorizer, CountVectorizer\n",
    "from sklearn.decomposition import LatentDirichletAllocation"
   ]
  },
  {
   "cell_type": "markdown",
   "id": "abaa770c",
   "metadata": {},
   "source": [
    "### LDANintPos_31_1.9"
   ]
  },
  {
   "cell_type": "code",
   "execution_count": 25,
   "id": "742d7c56",
   "metadata": {},
   "outputs": [],
   "source": [
    "no_topics = 31\n",
    "\n",
    "alpha = 1.9\n",
    "beta = 1.9\n",
    "\n",
    "documents = nintendoPositivesDocuments"
   ]
  },
  {
   "cell_type": "code",
   "execution_count": 26,
   "id": "8cd7f6c4",
   "metadata": {},
   "outputs": [],
   "source": [
    "tf_vectorizer = CountVectorizer(max_df=0.95, min_df=2, stop_words='english')\n",
    "tf = tf_vectorizer.fit_transform(documents)\n",
    "tf_feature_names = tf_vectorizer.get_feature_names()"
   ]
  },
  {
   "cell_type": "code",
   "execution_count": 27,
   "id": "10f555c1",
   "metadata": {},
   "outputs": [],
   "source": [
    "lda_model = LatentDirichletAllocation(n_components=no_topics, doc_topic_prior=alpha, topic_word_prior=beta, max_iter=100, learning_method='online', learning_offset=50.,random_state=0).fit(tf)\n",
    "lda_W = lda_model.transform(tf)\n",
    "lda_H = lda_model.components_"
   ]
  },
  {
   "cell_type": "code",
   "execution_count": 49,
   "id": "abfcae2f",
   "metadata": {},
   "outputs": [
    {
     "name": "stdout",
     "output_type": "stream",
     "text": [
      "Topic: 0 -->\n",
      " love 56.5796 great 30.79531 bought 28.47523 fun 24.8619 loves 21.15262 buy 20.94318 recommend 20.84963 son 20.2731 kids 18.77345 memory 16.54567 card 16.51072 got 15.37755 awesome 14.02213 family 13.70027 works 13.10907 loved 12.53892 price 11.88835 christmas 11.54587 highly 10.93933 dont 10.87158 old 10.84657 playing 10.622 best 10.42998 happy 10.42591 enjoy 9.97712 daughter 9.89878 came 9.7173 good 9.65842 play 9.54708 condition 9.45347\n",
      "[ 2807  2835 14844 ... 16027 11561 12307]\n",
      "Topic: 1 -->\n",
      " love 67.17905 great 32.10282 bought 29.83885 fun 25.06459 buy 22.49899 loves 22.15924 recommend 20.87419 son 20.67758 kids 18.92196 memory 16.78041 card 16.71919 got 15.49651 awesome 14.1285 family 13.78942 works 13.12111 loved 12.6001 price 11.94939 christmas 11.62732 highly 10.95748 dont 10.92965 old 10.90139 playing 10.67741 best 10.46358 happy 10.46248 enjoy 10.0031 daughter 9.97395 came 9.73875 good 9.68373 play 9.59308 condition 9.4851\n",
      "[ 2835  2807 14844 ... 11434   318 12307]\n",
      "Topic: 2 -->\n",
      " love 51.08546 great 28.35196 bought 27.41969 fun 23.3941 recommend 21.16161 buy 20.96909 loves 20.72519 son 19.90919 kids 18.40459 memory 16.73956 card 16.67925 got 15.28397 awesome 13.98074 family 13.62259 works 13.07251 loved 12.5005 price 11.83461 christmas 11.50171 highly 10.93624 dont 10.8622 old 10.78939 playing 10.58564 best 10.43942 happy 10.40474 enjoy 9.9602 daughter 9.85196 came 9.69977 good 9.66226 play 9.53992 condition 9.42203\n",
      "[ 2807  2835 14844 ... 13452 11561 12307]\n",
      "Topic: 3 -->\n",
      " love 56.53402 great 29.64882 bought 27.6545 fun 24.72098 buy 21.73094 loves 21.25481 recommend 20.59175 son 20.06697 kids 18.57002 memory 16.73528 card 16.66548 got 15.3867 awesome 14.04863 family 13.66784 works 13.0549 loved 12.5376 price 11.89302 christmas 11.53742 highly 10.92976 dont 10.87865 old 10.82631 playing 10.60049 best 10.43408 happy 10.42965 enjoy 9.97414 daughter 9.89083 came 9.70993 good 9.66553 play 9.54756 condition 9.43932\n",
      "[ 2807  2835 14844 ... 16027 11561 12307]\n",
      "Topic: 4 -->\n",
      " love 61.65545 great 30.64485 bought 28.76728 fun 25.07385 buy 22.30547 loves 21.17852 recommend 20.68665 son 20.43729 kids 19.1125 memory 16.52694 card 16.48159 got 15.40703 awesome 14.08543 family 13.74177 works 13.15988 loved 12.58255 price 11.92323 christmas 11.58007 highly 10.94671 dont 10.89324 old 10.85483 playing 10.63031 best 10.44853 happy 10.44852 enjoy 9.99779 daughter 9.91464 came 9.72351 good 9.68461 play 9.56593 condition 9.46406\n",
      "[ 2835  2807 14844 ... 16027 11561 12307]\n",
      "Topic: 5 -->\n",
      " love 57.73752 great 35.47506 bought 31.26347 fun 25.54861 loves 22.17591 buy 21.64705 recommend 21.32857 son 20.70204 kids 18.90525 memory 16.59105 card 16.50541 got 15.58179 awesome 14.14441 family 13.80424 works 13.2158 loved 12.63175 price 11.95966 christmas 11.62461 highly 10.97979 dont 10.9238 old 10.87375 playing 10.67783 best 10.47407 happy 10.46211 enjoy 10.00329 daughter 9.97597 came 9.74369 good 9.67864 play 9.58994 condition 9.51828\n",
      "[ 2807  2835 14844 ... 16027 11561 12307]\n",
      "Topic: 6 -->\n",
      " love 64.11384 great 30.00641 bought 27.54221 fun 25.46225 buy 21.62123 loves 20.93169 recommend 20.66967 son 20.34519 kids 18.87204 memory 16.62323 card 16.56397 got 15.39855 awesome 14.09442 family 13.71965 works 13.09436 loved 12.58219 price 11.89071 christmas 11.5715 highly 10.94103 dont 10.90822 old 10.86376 playing 10.64045 best 10.45754 happy 10.43489 enjoy 9.99223 daughter 9.89948 came 9.7112 good 9.6672 play 9.56306 condition 9.44267\n",
      "[ 2807  2835 14844 ...  1783 11561 12307]\n",
      "Topic: 7 -->\n",
      " love 55.08079 great 30.58018 bought 28.7237 fun 23.85413 buy 21.93702 recommend 20.97385 loves 20.67829 son 19.8167 kids 18.47507 memory 16.81037 card 16.72715 got 15.393 awesome 14.02548 family 13.65761 works 13.10132 loved 12.53203 price 11.87734 christmas 11.52007 highly 10.93053 dont 10.87177 old 10.81774 playing 10.62309 best 10.44116 happy 10.42499 enjoy 9.97303 daughter 9.86927 came 9.71493 good 9.6751 play 9.5415 condition 9.45391\n",
      "[ 2835  2807 14844 ... 13452 11561 12307]\n",
      "Topic: 8 -->\n",
      " love 54.8413 great 31.39254 bought 28.13719 fun 24.23225 loves 21.72854 buy 21.42415 recommend 21.1278 son 20.43822 kids 18.80172 memory 16.62388 card 16.57724 got 15.4471 awesome 14.09373 family 13.71975 works 13.17049 loved 12.55294 price 11.90338 christmas 11.56512 highly 10.94961 dont 10.88193 old 10.84576 playing 10.64117 best 10.47774 happy 10.43844 enjoy 9.98044 daughter 9.91955 came 9.72119 good 9.6866 play 9.56518 condition 9.46427\n",
      "[ 2835  2807 14844 ... 16027 11561 12307]\n",
      "Topic: 9 -->\n",
      " love 48.70942 great 31.1962 bought 29.09628 fun 26.049 buy 22.37747 loves 21.22049 recommend 20.97521 son 20.60464 kids 18.84491 memory 16.94602 card 16.86639 got 15.53743 awesome 14.06698 family 13.73006 works 13.16909 loved 12.54022 price 11.89467 christmas 11.55673 highly 10.93763 dont 10.88461 old 10.81609 playing 10.61565 happy 10.44799 best 10.43865 enjoy 9.97256 daughter 9.89933 came 9.72209 good 9.67903 play 9.56262 condition 9.46332\n",
      "[ 2835  2807 14844 ... 16027 11561 12307]\n",
      "Topic: 10 -->\n",
      " love 58.69308 great 31.21528 bought 29.38358 fun 24.16338 buy 21.79299 loves 21.22534 recommend 20.90987 son 20.23924 kids 18.93021 memory 16.80037 card 16.72009 got 15.48049 awesome 14.06426 family 13.70694 works 13.10134 loved 12.55391 price 11.91101 christmas 11.57518 highly 10.94928 dont 10.89232 old 10.84541 playing 10.62985 happy 10.43585 best 10.43428 enjoy 9.98596 daughter 9.91085 came 9.71952 good 9.68071 play 9.56055 condition 9.46749\n",
      "[ 2835  2807 14844 ... 16027 11561 12307]\n",
      "Topic: 11 -->\n",
      " love 55.84173 great 30.22266 bought 28.02135 fun 24.22789 buy 21.75305 loves 21.08572 recommend 20.43607 son 20.1393 kids 18.66012 memory 16.83952 card 16.75094 got 15.38418 awesome 14.10491 family 13.66546 works 13.13216 loved 12.54044 price 11.89147 christmas 11.53876 highly 10.92205 dont 10.89104 old 10.83045 playing 10.61998 best 10.46874 happy 10.42894 enjoy 9.97292 daughter 9.88612 came 9.71215 good 9.67303 play 9.53747 condition 9.44492\n",
      "[ 2835  2807 14844 ... 16027 11561 12307]\n",
      "Topic: 12 -->\n",
      " love 56.07161 great 33.76126 bought 28.45822 fun 24.15976 buy 21.95504 recommend 21.49198 loves 21.21077 son 20.48524 kids 18.99687 memory 16.92084 card 16.85594 got 15.62095 awesome 14.12439 family 13.72893 works 13.14563 loved 12.58366 price 11.91482 christmas 11.58229 highly 10.99275 dont 10.89932 old 10.86711 playing 10.6483 best 10.50563 happy 10.44826 enjoy 9.99082 daughter 9.91065 came 9.73327 good 9.69888 play 9.58115 condition 9.48712\n",
      "[ 2835  2807 14844 ... 16027 11561 12307]\n",
      "Topic: 13 -->\n",
      " love 49.80927 great 31.6754 bought 27.1134 fun 24.41891 recommend 21.3193 buy 21.08139 loves 20.74955 son 19.97446 kids 18.6152 memory 16.7218 card 16.66764 got 15.40119 awesome 13.97812 family 13.65981 works 13.09553 loved 12.50795 price 11.87741 christmas 11.50647 highly 10.93993 dont 10.86969 old 10.80576 playing 10.60137 best 10.43799 happy 10.41954 enjoy 9.97346 daughter 9.85925 came 9.70866 good 9.66207 play 9.54489 condition 9.44926\n",
      "[ 2807  2835 14844 ... 13452 11561 12307]\n",
      "Topic: 14 -->\n",
      " love 56.88159 great 32.86181 bought 29.73764 fun 25.09676 buy 21.75831 loves 21.23683 recommend 21.1036 son 20.52931 kids 19.21267 memory 16.72037 card 16.65972 got 15.55715 awesome 14.09458 family 13.76767 works 13.18387 loved 12.60311 price 11.92706 christmas 11.60104 highly 10.96201 dont 10.91209 old 10.85798 playing 10.65351 best 10.4764 happy 10.45655 enjoy 9.99134 daughter 9.92238 came 9.73167 good 9.68593 play 9.5983 condition 9.48463\n",
      "[ 2835  2807 14844 ... 16027 11561 12307]\n",
      "Topic: 15 -->\n",
      " love 59.53665 great 29.33439 bought 28.57068 fun 24.04399 buy 21.67228 loves 21.17701 recommend 20.50752 son 20.46084 kids 18.63197 memory 16.61795 card 16.53574 got 15.41858 awesome 14.04129 family 13.68065 works 13.10004 loved 12.5396 price 11.88728 christmas 11.55932 highly 10.92753 dont 10.89066 old 10.82871 playing 10.62429 best 10.43551 happy 10.43256 enjoy 9.9799 daughter 9.90074 came 9.70993 good 9.66366 play 9.55294 condition 9.44143\n",
      "[ 2835  2807 14844 ... 16027 11561 12307]\n",
      "Topic: 16 -->\n",
      " love 51.29985 great 29.86335 bought 28.92298 fun 24.08621 buy 21.43939 loves 20.93186 recommend 20.59985 son 20.04853 kids 18.60496 memory 16.69112 card 16.63658 got 15.35851 awesome 14.10578 family 13.66149 works 13.13001 loved 12.51142 price 11.86705 christmas 11.52311 highly 10.92021 dont 10.87662 old 10.81919 playing 10.59343 best 10.43664 happy 10.42324 enjoy 9.96934 daughter 9.87521 came 9.7093 good 9.66659 play 9.55638 condition 9.44711\n",
      "[ 2835  2807 14844 ... 13452 11561 12307]\n",
      "Topic: 17 -->\n",
      " love 57.79456 great 28.42675 bought 27.43332 fun 24.11878 loves 21.84953 buy 21.59045 recommend 20.76825 son 20.36327 kids 18.59907 memory 16.50566 card 16.44154 got 15.38026 awesome 14.05376 family 13.66174 works 13.05778 loved 12.52821 price 11.86842 christmas 11.55346 highly 10.92377 dont 10.87124 old 10.83316 playing 10.61402 best 10.44955 happy 10.42899 enjoy 9.97582 daughter 9.91491 came 9.70618 good 9.6788 play 9.55761 condition 9.42646\n",
      "[ 2807  2835 14844 ... 16027 11561 12307]\n",
      "Topic: 18 -->\n",
      " love 54.06602 great 31.83726 bought 28.57318 fun 24.24617 buy 21.40838 loves 20.61916 recommend 20.6129 son 19.93865 kids 18.86949 memory 16.90763 card 16.81362 got 15.44929 awesome 14.01881 family 13.67424 works 13.12563 loved 12.5396 price 11.87151 christmas 11.53065 highly 10.93221 dont 10.8788 old 10.814 playing 10.6342 best 10.46475 happy 10.42679 enjoy 9.97743 daughter 9.87092 came 9.71443 good 9.66529 play 9.55326 condition 9.46368\n",
      "[ 2835  2807 14844 ... 13452 11561 12307]\n",
      "Topic: 19 -->\n",
      " love 52.11048 great 29.79815 bought 28.31853 fun 25.12801 buy 22.7648 loves 21.25013 recommend 21.02294 son 20.25497 kids 18.74478 memory 16.86694 card 16.76322 got 15.44746 awesome 14.03294 family 13.69577 works 13.1056 loved 12.54882 price 11.88779 christmas 11.54652 highly 10.93858 dont 10.91303 old 10.83464 playing 10.62647 best 10.47717 happy 10.43695 enjoy 9.97535 daughter 9.89292 came 9.71749 good 9.66099 play 9.57531 condition 9.44388\n",
      "[ 2835  2807 14844 ... 16027 11561 12307]\n",
      "Topic: 20 -->\n",
      " game 69567.37285 games 20231.90185 mario 19572.5038 like 16123.69434 play 12691.06521 fun 11769.26076 just 11217.65996 time 10578.74856 great 9675.85401 new 9385.79957 really 8881.45073 nintendo 8754.55889 good 8415.78127 super 8379.11918 graphics 7189.57871 wii 6823.28832 best 6323.54442 don 5703.4599 playing 5534.68383 zelda 5448.90171 played 5096.55862 pokemon 4919.91343 way 4682.52981 different 4639.03721 world 4614.65674 ll 4577.04812 characters 4576.00165 ve 4551.4434 little 4465.66966 gameplay 4420.24342\n",
      "[12307 11561 16027 ... 14844  2835  2807]\n",
      "Topic: 21 -->\n",
      " 62 111.51252 60 69.50081 love 59.07951 great 31.52883 bought 26.43082 kids 25.13985 fun 23.90371 buy 23.19423 recommend 20.2146 loves 19.76712 son 18.68473 card 17.3523 memory 17.29267 got 15.9625 awesome 13.63863 family 13.36449 works 12.69314 loved 12.21948 price 12.11277 good 11.36869 christmas 11.29389 best 11.05081 dont 10.99834 highly 10.73276 old 10.6659 playing 10.42377 happy 10.17534 enjoy 9.83481 daughter 9.56866 came 9.49911\n",
      "[ 2835  2807 14844 ...  9578  1536  1460]\n",
      "Topic: 22 -->\n",
      " love 61.24834 great 30.78047 bought 27.54648 fun 27.24762 buy 21.79077 recommend 21.35531 loves 21.22979 son 20.46436 kids 18.91892 memory 16.72814 card 16.66419 got 15.48805 awesome 14.14447 family 13.78228 works 13.09277 loved 12.54519 price 11.92087 christmas 11.57108 highly 10.95869 dont 10.92625 old 10.86091 playing 10.63638 best 10.45316 happy 10.44677 enjoy 9.99711 daughter 9.91377 came 9.7179 good 9.69007 play 9.57195 condition 9.45229\n",
      "[ 2835  2807 14844 ... 16027 11561 12307]\n",
      "Topic: 23 -->\n",
      " love 60.20722 great 31.72218 bought 29.07513 fun 26.18957 buy 22.12198 loves 21.25907 recommend 21.17195 son 20.35344 kids 19.03937 memory 16.80901 card 16.77844 got 15.519 awesome 14.10493 family 13.77497 works 13.16234 loved 12.58999 price 11.92656 christmas 11.58315 highly 10.97256 dont 10.91264 old 10.85566 playing 10.65259 best 10.4703 happy 10.44788 enjoy 9.99526 daughter 9.92329 came 9.72752 good 9.69467 play 9.58198 condition 9.47489\n",
      "[ 2835  2807 14844 ... 16027 11561 12307]\n",
      "Topic: 24 -->\n",
      " love 53.11118 great 29.2341 bought 28.36713 fun 24.17861 buy 21.71454 loves 20.87586 recommend 20.81275 son 19.94746 kids 18.60684 memory 16.85139 card 16.75537 got 15.42478 awesome 14.02173 family 13.6483 works 13.05242 loved 12.52069 price 11.87025 christmas 11.52615 highly 10.92488 dont 10.87564 old 10.8099 playing 10.60146 best 10.46335 happy 10.42655 enjoy 9.97029 daughter 9.87126 came 9.70961 good 9.66245 play 9.56063 condition 9.43403\n",
      "[ 2835  2807 14844 ... 13452 11561 12307]\n",
      "Topic: 25 -->\n",
      " love 49.52393 great 30.87935 bought 28.93811 fun 23.85224 buy 21.76861 loves 21.32494 recommend 21.04087 son 20.2617 kids 18.68714 memory 16.67314 card 16.59701 got 15.27131 awesome 14.07418 family 13.6588 works 13.11862 loved 12.51787 price 11.8888 christmas 11.52925 highly 10.93547 dont 10.89402 old 10.81905 playing 10.60671 best 10.46551 happy 10.42468 enjoy 9.96605 daughter 9.89095 came 9.71561 good 9.67075 play 9.53351 condition 9.4532\n",
      "[ 2807  2835 14844 ... 16027 11561 12307]\n",
      "Topic: 26 -->\n",
      " love 53.33832 great 30.9808 bought 29.18903 fun 23.16822 buy 22.34096 loves 21.32007 recommend 20.91312 son 20.41785 kids 18.83075 memory 16.99324 card 16.95796 got 15.39508 awesome 14.04194 family 13.67627 works 13.11801 loved 12.53264 price 11.90744 christmas 11.5546 highly 10.93487 dont 10.89094 old 10.83021 playing 10.61933 best 10.45587 happy 10.44147 enjoy 9.9741 daughter 9.90128 came 9.7155 good 9.67037 play 9.54326 condition 9.46325\n",
      "[ 2835  2807 14844 ... 16027 11561 12307]\n",
      "Topic: 27 -->\n",
      " love 58.14265 great 29.66471 bought 27.29309 fun 24.35057 buy 21.20393 loves 20.65101 recommend 20.36123 son 20.28919 kids 18.67458 memory 16.51376 card 16.46839 got 15.37884 awesome 14.01417 family 13.65676 works 13.07418 loved 12.51948 price 11.86315 christmas 11.53611 highly 10.9133 dont 10.86879 old 10.83101 playing 10.60624 best 10.44074 happy 10.42097 enjoy 9.9749 daughter 9.8682 came 9.70804 good 9.66403 play 9.54857 condition 9.43639\n",
      "[ 2807  2835 14844 ... 16027 11561 12307]\n",
      "Topic: 28 -->\n",
      " love 46.98005 great 29.40488 bought 27.57626 fun 24.02139 buy 21.70144 loves 20.66603 recommend 20.62337 son 20.06408 kids 18.494 memory 16.89972 card 16.82657 got 15.3966 awesome 13.9776 family 13.6096 works 13.0598 loved 12.50284 price 11.84857 christmas 11.49798 highly 10.91534 dont 10.88677 old 10.78518 playing 10.59774 best 10.4378 happy 10.41835 enjoy 9.95873 daughter 9.84764 came 9.70153 good 9.6684 play 9.54116 condition 9.431\n",
      "[ 2835  2807 14844 ... 13452 11561 12307]\n",
      "Topic: 29 -->\n",
      " love 45.15904 great 29.97174 bought 28.0044 fun 25.21034 buy 21.87872 loves 20.87746 recommend 20.5401 son 20.09137 kids 18.41833 memory 16.83584 card 16.75267 got 15.393 awesome 14.02788 family 13.67559 works 13.14431 loved 12.49596 price 11.86838 christmas 11.50178 highly 10.91744 dont 10.86824 old 10.81703 playing 10.59812 best 10.44984 happy 10.41457 enjoy 9.95353 daughter 9.86077 came 9.70369 good 9.66324 play 9.53963 condition 9.43547\n",
      "[ 2835  2807 14844 ... 13452 11561 12307]\n",
      "Topic: 30 -->\n",
      " love 49.5172 great 29.8881 bought 27.40268 fun 24.10544 buy 20.98768 loves 20.80447 recommend 20.59015 son 20.03806 kids 18.42279 memory 16.4795 card 16.39687 got 15.35526 awesome 14.01096 family 13.65546 works 13.06674 loved 12.49288 price 11.85455 christmas 11.50381 highly 10.91584 dont 10.87071 old 10.81646 playing 10.60842 best 10.43969 happy 10.41194 enjoy 9.95733 daughter 9.85755 came 9.7051 good 9.67701 play 9.55875 condition 9.4357\n",
      "[ 2835  2807 14844 ... 13452 11561 12307]\n"
     ]
    }
   ],
   "source": [
    "display_topics(lda_H, lda_W, tf_feature_names, documents, 'LDANintPos_31_1.9')\n",
    "#no_top_words = 30 \n",
    "#no_top_documents = 10"
   ]
  },
  {
   "cell_type": "markdown",
   "id": "2dc82192",
   "metadata": {},
   "source": [
    "### LDANintNeg_26_1.9"
   ]
  },
  {
   "cell_type": "code",
   "execution_count": 50,
   "id": "6a97f444",
   "metadata": {},
   "outputs": [],
   "source": [
    "no_topics = 26\n",
    "\n",
    "alpha = 1.9\n",
    "beta = 1.9\n",
    "\n",
    "documents = nintendoNegativesDocuments"
   ]
  },
  {
   "cell_type": "code",
   "execution_count": 51,
   "id": "6a971eb0",
   "metadata": {},
   "outputs": [],
   "source": [
    "tf_vectorizer = CountVectorizer(max_df=0.95, min_df=2, stop_words='english')\n",
    "tf = tf_vectorizer.fit_transform(documents)\n",
    "tf_feature_names = tf_vectorizer.get_feature_names()"
   ]
  },
  {
   "cell_type": "code",
   "execution_count": 58,
   "id": "e6f1dfd3",
   "metadata": {},
   "outputs": [],
   "source": [
    "lda_model = LatentDirichletAllocation(n_components=no_topics, doc_topic_prior=alpha, topic_word_prior=beta, max_iter=100, learning_method='online', learning_offset=50.,random_state=0).fit(tf)\n",
    "lda_W = lda_model.transform(tf)\n",
    "lda_H = lda_model.components_"
   ]
  },
  {
   "cell_type": "code",
   "execution_count": 53,
   "id": "b5110519",
   "metadata": {},
   "outputs": [
    {
     "name": "stdout",
     "output_type": "stream",
     "text": [
      "Topic: 0 -->\n",
      " suck 4.08839 bought 3.76344 boring 3.67473 dont 3.60581 son 3.50499 buy 3.36098 product 3.28932 kids 3.26256 im 3.23298 ok 3.1745 theres 3.1666 bored 3.15171 waste 3.14917 controllers 3.11876 tetris 3.1149 okay 3.10425 crap 3.06327 recommend 3.0441 money 3.03261 stupid 3.03129 pikachu 3.03085 sucks 3.0265 work 3.02371 alot 3.00716 rent 3.00545 got 3.00254 price 2.98927 00 2.98423 controller 2.97691 christmas 2.95337\n",
      "[ 109  105 2731 ... 3261 2803 2577]\n",
      "Topic: 1 -->\n",
      " suck 4.08851 bought 3.76343 boring 3.67479 dont 3.6058 son 3.50498 buy 3.36097 product 3.2893 kids 3.26256 im 3.23299 ok 3.17452 theres 3.1666 bored 3.15171 waste 3.14917 controllers 3.11873 tetris 3.11493 okay 3.10425 crap 3.06329 recommend 3.0441 money 3.03261 stupid 3.03129 pikachu 3.03082 sucks 3.0265 work 3.02371 alot 3.00716 rent 3.00545 got 3.00254 price 2.98928 00 2.98423 controller 2.97691 christmas 2.95337\n",
      "[ 109  105 2731 ... 3261 2803 2577]\n",
      "Topic: 2 -->\n",
      " suck 4.08844 bought 3.76343 boring 3.67478 dont 3.60582 son 3.50499 buy 3.361 product 3.28932 kids 3.26257 im 3.23299 ok 3.17451 theres 3.1666 bored 3.15172 waste 3.14917 controllers 3.11874 tetris 3.11491 okay 3.10425 crap 3.06328 recommend 3.0441 money 3.03261 stupid 3.03129 pikachu 3.03082 sucks 3.02649 work 3.02371 alot 3.00716 rent 3.00545 got 3.00254 price 2.98928 00 2.98423 controller 2.97691 christmas 2.95338\n",
      "[ 109  105 2731 ... 3261 2803 2577]\n",
      "Topic: 3 -->\n",
      " suck 4.08844 bought 3.76344 boring 3.67483 dont 3.60581 son 3.50498 buy 3.36097 product 3.28932 kids 3.26256 im 3.23299 ok 3.17452 theres 3.1666 bored 3.15171 waste 3.14917 controllers 3.11874 tetris 3.11491 okay 3.10424 crap 3.06328 recommend 3.0441 money 3.03261 stupid 3.03128 pikachu 3.03082 sucks 3.0265 work 3.02371 alot 3.00716 rent 3.00546 got 3.00253 price 2.98927 00 2.98429 controller 2.97691 christmas 2.95337\n",
      "[ 109  105 2731 ... 3261 2803 2577]\n",
      "Topic: 4 -->\n",
      " suck 4.08849 bought 3.76344 boring 3.67483 dont 3.60581 son 3.50498 buy 3.36098 product 3.28932 kids 3.26256 im 3.23299 ok 3.17451 theres 3.16661 bored 3.15171 waste 3.14918 controllers 3.11875 tetris 3.11492 okay 3.10424 crap 3.06328 recommend 3.0441 money 3.03261 stupid 3.03128 pikachu 3.03082 sucks 3.02649 work 3.02371 alot 3.00717 rent 3.00545 got 3.00254 price 2.98928 00 2.98429 controller 2.97692 christmas 2.95337\n",
      "[ 109  105 2731 ... 3261 2803 2577]\n",
      "Topic: 5 -->\n",
      " suck 4.0884 bought 3.76343 boring 3.67468 dont 3.6058 son 3.50498 buy 3.361 product 3.28932 kids 3.26257 im 3.23299 ok 3.17451 theres 3.1666 bored 3.15171 waste 3.14918 controllers 3.11873 tetris 3.1149 okay 3.10425 crap 3.06328 recommend 3.0441 money 3.03262 stupid 3.03128 pikachu 3.03082 sucks 3.0265 work 3.02371 alot 3.00716 rent 3.00545 got 3.00254 price 2.98928 00 2.98423 controller 2.97691 christmas 2.95337\n",
      "[ 109  105 2731 ... 3261 2803 2577]\n",
      "Topic: 6 -->\n",
      " suck 4.08839 bought 3.76347 boring 3.67476 dont 3.60581 son 3.50497 buy 3.36098 product 3.28931 kids 3.26256 im 3.233 ok 3.17451 theres 3.1666 bored 3.15171 waste 3.14917 controllers 3.11874 tetris 3.11493 okay 3.10425 crap 3.06328 recommend 3.0441 money 3.03261 stupid 3.03128 pikachu 3.03082 sucks 3.02649 work 3.02371 alot 3.00717 rent 3.00545 got 3.00254 price 2.98927 00 2.9842 controller 2.97691 christmas 2.95338\n",
      "[ 109  105 2731 ... 3261 2803 2577]\n",
      "Topic: 7 -->\n",
      " suck 4.08862 bought 3.76347 boring 3.67475 dont 3.60582 son 3.50498 buy 3.36099 product 3.28932 kids 3.26256 im 3.23299 ok 3.17451 theres 3.1666 bored 3.15171 waste 3.14917 controllers 3.11874 tetris 3.11494 okay 3.10424 crap 3.06328 recommend 3.0441 money 3.03261 stupid 3.03129 pikachu 3.03082 sucks 3.02649 work 3.02371 alot 3.00716 rent 3.00545 got 3.00254 price 2.98928 00 2.98429 controller 2.97692 christmas 2.95337\n",
      "[ 109  105 2731 ... 3261 2803 2577]\n",
      "Topic: 8 -->\n",
      " suck 4.0885 bought 3.76346 boring 3.6748 dont 3.6058 son 3.505 buy 3.36099 product 3.28931 kids 3.26256 im 3.23299 ok 3.17452 theres 3.1666 bored 3.15171 waste 3.14917 controllers 3.11874 tetris 3.11492 okay 3.10425 crap 3.06328 recommend 3.0441 money 3.03261 stupid 3.03128 pikachu 3.03083 sucks 3.02651 work 3.02371 alot 3.00717 rent 3.00545 got 3.00254 price 2.98928 00 2.98428 controller 2.97691 christmas 2.95337\n",
      "[ 109  105 2731 ... 3261 2803 2577]\n",
      "Topic: 9 -->\n",
      " suck 4.08846 bought 3.76345 boring 3.67473 dont 3.60581 son 3.50497 buy 3.36098 product 3.28932 kids 3.26256 im 3.23299 ok 3.17451 theres 3.1666 bored 3.15172 waste 3.14917 controllers 3.11874 tetris 3.11492 okay 3.10425 crap 3.06328 recommend 3.0441 money 3.03261 stupid 3.03128 pikachu 3.03085 sucks 3.02649 work 3.02371 alot 3.00717 rent 3.00545 got 3.00254 price 2.98928 00 2.98416 controller 2.97691 christmas 2.95338\n",
      "[ 109  105 2731 ... 3261 2803 2577]\n",
      "Topic: 10 -->\n",
      " suck 4.08863 bought 3.76345 boring 3.67481 dont 3.60582 son 3.50499 buy 3.36098 product 3.28932 kids 3.26256 im 3.233 ok 3.17451 theres 3.16661 bored 3.15171 waste 3.14917 controllers 3.11873 tetris 3.11492 okay 3.10425 crap 3.06328 recommend 3.0441 money 3.03262 stupid 3.03128 pikachu 3.03082 sucks 3.0265 work 3.02371 alot 3.00716 rent 3.00545 got 3.00254 price 2.98928 00 2.98423 controller 2.97692 christmas 2.95337\n",
      "[ 109  105 2731 ... 3261 2803 2577]\n",
      "Topic: 11 -->\n",
      " suck 4.0884 bought 3.76343 boring 3.67482 dont 3.6058 son 3.505 buy 3.36096 product 3.28931 kids 3.26256 im 3.23298 ok 3.17451 theres 3.1666 bored 3.15171 waste 3.14917 controllers 3.11875 tetris 3.1149 okay 3.10425 crap 3.06329 recommend 3.0441 money 3.03261 stupid 3.03128 pikachu 3.03081 sucks 3.0265 work 3.02371 alot 3.00716 rent 3.00545 got 3.00254 price 2.98928 00 2.98425 controller 2.97691 christmas 2.95338\n",
      "[ 109  105 2731 ... 3261 2803 2577]\n",
      "Topic: 12 -->\n",
      " suck 4.08847 bought 3.76347 boring 3.67481 dont 3.60581 son 3.50499 buy 3.36101 product 3.28932 kids 3.26256 im 3.23299 ok 3.17451 theres 3.1666 bored 3.15171 waste 3.14917 controllers 3.11875 tetris 3.11492 okay 3.10425 crap 3.06329 recommend 3.0441 money 3.03262 stupid 3.03128 pikachu 3.03083 sucks 3.0265 work 3.02371 alot 3.00717 rent 3.00545 got 3.00254 price 2.98928 00 2.98427 controller 2.97692 christmas 2.95338\n",
      "[ 109  105 2731 ... 3261 2803 2577]\n",
      "Topic: 13 -->\n",
      " suck 4.08852 bought 3.76349 boring 3.67484 dont 3.60584 son 3.50499 buy 3.36097 product 3.28932 kids 3.26256 im 3.233 ok 3.17451 theres 3.16661 bored 3.15171 waste 3.14918 controllers 3.11872 tetris 3.11492 okay 3.10425 crap 3.06328 recommend 3.0441 money 3.03262 stupid 3.03128 pikachu 3.03084 sucks 3.02649 work 3.02371 alot 3.00717 rent 3.00546 got 3.00254 price 2.98927 00 2.98422 controller 2.97692 christmas 2.95338\n",
      "[ 109  105 2731 ... 3261 2803 2577]\n",
      "Topic: 14 -->\n",
      " suck 4.08848 bought 3.76345 boring 3.67475 dont 3.6058 son 3.50499 buy 3.36099 product 3.28931 kids 3.26256 im 3.23299 ok 3.17451 theres 3.16661 bored 3.15171 waste 3.14917 controllers 3.11874 tetris 3.11492 okay 3.10425 crap 3.06328 recommend 3.0441 money 3.03261 stupid 3.03128 pikachu 3.03085 sucks 3.02649 work 3.02371 alot 3.00716 rent 3.00545 got 3.00254 price 2.98928 00 2.98427 controller 2.97691 christmas 2.95338\n",
      "[ 109  105 2731 ... 3261 2803 2577]\n",
      "Topic: 15 -->\n",
      " suck 4.0884 bought 3.76345 boring 3.67473 dont 3.60578 son 3.50498 buy 3.36097 product 3.28932 kids 3.26256 im 3.23299 ok 3.17451 theres 3.1666 bored 3.15171 waste 3.14917 controllers 3.11875 tetris 3.1149 okay 3.10424 crap 3.06329 recommend 3.0441 money 3.03261 stupid 3.03128 pikachu 3.03083 sucks 3.02649 work 3.02371 alot 3.00716 rent 3.00545 got 3.00253 price 2.98928 00 2.98427 controller 2.97691 christmas 2.95337\n",
      "[ 109  105 2731 ... 3261 2803 2577]\n",
      "Topic: 16 -->\n",
      " suck 4.08837 bought 3.76344 boring 3.67474 dont 3.60582 son 3.50499 buy 3.36098 product 3.28932 kids 3.26256 im 3.23299 ok 3.17451 theres 3.16661 bored 3.15171 waste 3.14917 controllers 3.11873 tetris 3.11492 okay 3.10425 crap 3.06328 recommend 3.0441 money 3.03262 stupid 3.03128 pikachu 3.03086 sucks 3.02649 work 3.02371 alot 3.00717 rent 3.00545 got 3.00254 price 2.98928 00 2.98423 controller 2.97691 christmas 2.95338\n",
      "[ 109  105 2731 ... 3261 2803 2577]\n",
      "Topic: 17 -->\n",
      " suck 4.08846 bought 3.76345 boring 3.67479 dont 3.60583 son 3.50498 buy 3.36098 product 3.28931 kids 3.26256 im 3.23299 ok 3.17451 theres 3.1666 bored 3.15171 waste 3.14917 controllers 3.11873 tetris 3.11494 okay 3.10425 crap 3.06328 recommend 3.0441 money 3.03261 stupid 3.03128 pikachu 3.03082 sucks 3.02649 work 3.02371 alot 3.00716 rent 3.00545 got 3.00254 price 2.98928 00 2.98429 controller 2.97691 christmas 2.95337\n",
      "[ 109  105 2731 ... 3261 2803 2577]\n",
      "Topic: 18 -->\n",
      " suck 4.08842 bought 3.76345 boring 3.67476 dont 3.60579 son 3.50498 buy 3.36101 product 3.28932 kids 3.26256 im 3.23299 ok 3.17451 theres 3.1666 bored 3.15171 waste 3.14917 controllers 3.11871 tetris 3.11494 okay 3.10425 crap 3.06328 recommend 3.0441 money 3.03262 stupid 3.03128 pikachu 3.03085 sucks 3.0265 work 3.02371 alot 3.00716 rent 3.00545 got 3.00254 price 2.98928 00 2.98432 controller 2.97691 christmas 2.95338\n",
      "[ 109  105 2731 ... 3261 2803 2577]\n",
      "Topic: 19 -->\n",
      " suck 4.08843 bought 3.76343 boring 3.67477 dont 3.6058 son 3.50498 buy 3.36098 product 3.28932 kids 3.26255 im 3.23299 ok 3.17451 theres 3.16661 bored 3.15172 waste 3.14918 controllers 3.11875 tetris 3.11491 okay 3.10424 crap 3.0633 recommend 3.0441 money 3.03261 stupid 3.03128 pikachu 3.03084 sucks 3.0265 work 3.02371 alot 3.00716 rent 3.00545 got 3.00254 price 2.98928 00 2.98424 controller 2.97691 christmas 2.95338\n",
      "[ 109  105 2731 ... 3261 2803 2577]\n",
      "Topic: 20 -->\n",
      " suck 4.08835 bought 3.76344 boring 3.67475 dont 3.6058 son 3.50497 buy 3.36099 product 3.28931 kids 3.26256 im 3.23299 ok 3.17451 theres 3.1666 bored 3.15171 waste 3.14917 controllers 3.11874 tetris 3.11491 okay 3.10425 crap 3.06329 recommend 3.0441 money 3.03262 stupid 3.03128 pikachu 3.03084 sucks 3.0265 work 3.02371 alot 3.00716 rent 3.00545 got 3.00254 price 2.98928 00 2.98429 controller 2.97691 christmas 2.95338\n",
      "[ 109  105 2731 ... 3261 2803 2577]\n",
      "Topic: 21 -->\n",
      " suck 4.08843 bought 3.76345 boring 3.67475 dont 3.60582 son 3.50498 buy 3.36098 product 3.28931 kids 3.26256 im 3.23299 ok 3.17451 theres 3.16661 bored 3.15171 waste 3.14917 controllers 3.11874 tetris 3.11491 okay 3.10425 crap 3.06328 recommend 3.0441 money 3.03262 stupid 3.03128 pikachu 3.03084 sucks 3.02649 work 3.02371 alot 3.00716 rent 3.00545 got 3.00254 price 2.98928 00 2.98424 controller 2.97692 christmas 2.95338\n",
      "[ 109  105 2731 ... 3261 2803 2577]\n",
      "Topic: 22 -->\n",
      " suck 4.08846 bought 3.76344 boring 3.67471 dont 3.6058 son 3.50499 buy 3.36097 product 3.28932 kids 3.26257 im 3.23298 ok 3.17452 theres 3.1666 bored 3.15171 waste 3.14917 controllers 3.11872 tetris 3.11491 okay 3.10425 crap 3.06328 recommend 3.0441 money 3.03261 stupid 3.03128 pikachu 3.03085 sucks 3.0265 work 3.02371 alot 3.00717 rent 3.00545 got 3.00254 price 2.98928 00 2.98427 controller 2.97691 christmas 2.95337\n",
      "[ 109  105 2731 ... 3261 2803 2577]\n",
      "Topic: 23 -->\n",
      " game 14307.53698 like 3793.72557 games 3698.85399 mario 3423.34772 just 3370.54411 play 2423.05052 really 2250.70648 time 2144.35832 fun 2118.54106 good 1915.40939 nintendo 1644.28508 don 1607.42884 graphics 1502.43527 new 1406.28382 super 1305.56538 wii 1277.12414 way 1229.11086 great 1102.83441 playing 1067.13269 better 1064.27251 pokemon 1051.06992 make 1026.23197 played 990.94249 ve 982.03036 gameplay 925.57351 zelda 920.98345 story 920.54835 ll 905.81431 little 899.31388 use 881.5113\n",
      "[2577 2803 3261 ... 2731  105  109]\n",
      "Topic: 24 -->\n",
      " suck 4.08856 bought 3.76342 boring 3.67485 dont 3.6058 son 3.50497 buy 3.36098 product 3.28931 kids 3.26256 im 3.23298 ok 3.17451 theres 3.1666 bored 3.15171 waste 3.14917 controllers 3.11874 tetris 3.11493 okay 3.10425 crap 3.06329 recommend 3.0441 money 3.03262 stupid 3.03129 pikachu 3.03084 sucks 3.0265 work 3.02371 alot 3.00716 rent 3.00545 got 3.00254 price 2.98928 00 2.98424 controller 2.97691 christmas 2.95337\n",
      "[ 109  105 2731 ... 3261 2803 2577]\n",
      "Topic: 25 -->\n",
      " suck 4.08841 bought 3.76343 boring 3.67472 dont 3.6058 son 3.50499 buy 3.36096 product 3.28932 kids 3.26256 im 3.23299 ok 3.17451 theres 3.16661 bored 3.15172 waste 3.14917 controllers 3.11874 tetris 3.11492 okay 3.10424 crap 3.06329 recommend 3.0441 money 3.03261 stupid 3.03129 pikachu 3.03083 sucks 3.0265 work 3.02371 alot 3.00717 rent 3.00545 got 3.00253 price 2.98928 00 2.98426 controller 2.97691 christmas 2.95338\n",
      "[ 109  105 2731 ... 3261 2803 2577]\n"
     ]
    }
   ],
   "source": [
    "display_topics(lda_H, lda_W, tf_feature_names, documents, 'LDANintNeg_26_1.9')"
   ]
  },
  {
   "cell_type": "markdown",
   "id": "ba61a212",
   "metadata": {},
   "source": [
    "### LDASonyPos_34_1.9"
   ]
  },
  {
   "cell_type": "code",
   "execution_count": 54,
   "id": "8498b5c5",
   "metadata": {},
   "outputs": [],
   "source": [
    "no_topics = 34\n",
    "\n",
    "alpha = 1.9\n",
    "beta = 1.9\n",
    "\n",
    "documents = sonyPositivesDocuments"
   ]
  },
  {
   "cell_type": "code",
   "execution_count": 55,
   "id": "2e7bc8dd",
   "metadata": {},
   "outputs": [],
   "source": [
    "tf_vectorizer = CountVectorizer(max_df=0.95, min_df=2, stop_words='english')\n",
    "tf = tf_vectorizer.fit_transform(documents)\n",
    "tf_feature_names = tf_vectorizer.get_feature_names()"
   ]
  },
  {
   "cell_type": "code",
   "execution_count": 56,
   "id": "63187330",
   "metadata": {},
   "outputs": [],
   "source": [
    "lda_model = LatentDirichletAllocation(n_components=no_topics, doc_topic_prior=alpha, topic_word_prior=beta, max_iter=100, learning_method='online', learning_offset=50.,random_state=0).fit(tf)\n",
    "lda_W = lda_model.transform(tf)\n",
    "lda_H = lda_model.components_"
   ]
  },
  {
   "cell_type": "code",
   "execution_count": 57,
   "id": "3733466d",
   "metadata": {},
   "outputs": [
    {
     "name": "stdout",
     "output_type": "stream",
     "text": [
      "Topic: 0 -->\n",
      " great 34.94529 awesome 23.48661 vita 20.17051 best 17.40628 ps3 14.62213 recommend 13.84084 amazing 13.02592 controller 12.45415 graphics 12.35581 good 12.30561 son 12.03316 love 11.97301 fun 11.86006 played 11.47626 loves 10.58809 ps2 10.27792 ps 10.07985 im 9.99507 loved 9.87495 ps4 9.84485 fan 9.83943 recommended 9.53266 dont 9.47562 games 9.22179 highly 8.66557 excellent 8.37514 game 8.24809 psp 8.22084 enjoyed 8.03641 series 7.90498\n",
      "[20660 25091 24979 ... 13787 21947 12341]\n",
      "Topic: 1 -->\n",
      " great 37.31321 awesome 22.93975 vita 20.16819 best 17.55859 ps3 14.66355 recommend 13.732 amazing 13.0199 controller 12.45406 graphics 12.34568 good 12.26966 son 12.08823 fun 11.92939 love 11.92812 played 11.47198 loves 10.58532 ps2 10.27739 ps 10.08176 im 9.99345 loved 9.87328 ps4 9.84545 fan 9.837 recommended 9.53321 dont 9.47479 games 9.21716 highly 8.66264 excellent 8.37529 psp 8.22342 game 8.2075 enjoyed 8.03582 series 7.90558\n",
      "[20660 25091 24979 ... 13787 12341 16605]\n",
      "Topic: 2 -->\n",
      " great 32.73838 awesome 22.7909 vita 20.06583 best 17.20571 ps3 14.66253 recommend 13.68715 amazing 13.0009 controller 12.4436 graphics 12.31562 good 12.23487 son 12.08478 love 11.98655 fun 11.81164 played 11.45274 loves 10.57929 ps2 10.27055 ps 10.0648 im 9.98882 loved 9.85816 ps4 9.83794 fan 9.83696 recommended 9.52565 dont 9.47033 games 9.21749 highly 8.65681 excellent 8.37289 psp 8.22168 game 8.19133 enjoyed 8.03366 series 7.90188\n",
      "[20660 25091 24979 ... 17460 16605 11289]\n",
      "Topic: 3 -->\n",
      " great 33.64208 awesome 22.53536 vita 20.06277 best 17.16852 ps3 14.69998 recommend 13.69399 amazing 13.00491 controller 12.44228 graphics 12.33328 good 12.21607 son 12.14957 love 11.87737 fun 11.64119 played 11.42953 loves 10.57623 ps2 10.27122 ps 10.0629 im 9.98809 loved 9.85036 ps4 9.83684 fan 9.83162 recommended 9.52652 dont 9.46477 games 9.20962 highly 8.65434 excellent 8.37287 psp 8.22472 game 8.20067 enjoyed 8.03269 series 7.90072\n",
      "[20660 25091 24979 ... 14989 19009 11289]\n",
      "Topic: 4 -->\n",
      " great 38.90672 awesome 23.22668 vita 20.19255 best 17.33051 ps3 14.63476 recommend 13.76108 amazing 13.03375 controller 12.46116 graphics 12.34616 good 12.26239 son 12.05146 love 11.90815 fun 11.8046 played 11.49399 loves 10.59123 ps2 10.28149 ps 10.08372 im 9.9954 loved 9.869 ps4 9.84853 fan 9.84117 recommended 9.5358 dont 9.47669 games 9.24373 highly 8.66532 excellent 8.37601 game 8.22434 psp 8.22301 enjoyed 8.03732 series 7.90689\n",
      "[20660 25091 24979 ... 13787 21947 12341]\n",
      "Topic: 5 -->\n",
      " great 34.55625 awesome 22.54435 vita 20.09047 best 17.21392 ps3 14.704 recommend 13.72947 amazing 12.98737 controller 12.44403 graphics 12.3219 good 12.24232 son 12.13314 love 11.91282 fun 11.8484 played 11.45337 loves 10.57969 ps2 10.27226 ps 10.0676 im 9.98964 loved 9.86035 ps4 9.83845 fan 9.83293 recommended 9.52819 dont 9.46477 games 9.21273 highly 8.65621 excellent 8.37304 psp 8.22495 game 8.19483 enjoyed 8.03396 series 7.90168\n",
      "[20660 25091 24979 ... 16605 19009 11289]\n",
      "Topic: 6 -->\n",
      " great 38.09784 awesome 23.09655 vita 20.20758 best 17.35865 ps3 14.64353 recommend 13.71575 amazing 13.01719 controller 12.45967 graphics 12.35319 good 12.34997 fun 12.05488 love 12.05366 son 12.04095 played 11.45967 loves 10.58429 ps2 10.27922 ps 10.08542 im 9.99803 loved 9.87863 ps4 9.84782 fan 9.83864 recommended 9.53408 dont 9.4795 games 9.22986 highly 8.66511 excellent 8.37575 psp 8.22284 game 8.21871 enjoyed 8.03752 series 7.90673\n",
      "[20660 25091 24979 ... 16605 21947 12341]\n",
      "Topic: 7 -->\n",
      " great 34.60676 awesome 22.79882 vita 20.13108 best 17.28521 ps3 14.64493 recommend 13.74687 amazing 13.00933 controller 12.45029 graphics 12.35839 good 12.29399 son 12.0705 love 12.04382 fun 11.89296 played 11.44348 loves 10.58002 ps2 10.27546 ps 10.07401 im 9.99577 loved 9.85981 ps4 9.84178 fan 9.83611 recommended 9.52826 dont 9.46965 games 9.2236 highly 8.66007 excellent 8.37414 psp 8.22194 game 8.20084 enjoyed 8.0348 series 7.90348\n",
      "[20660 25091 24979 ... 12341 11289 16605]\n",
      "Topic: 8 -->\n",
      " great 35.56236 awesome 22.83454 vita 20.12468 best 17.29971 ps3 14.66499 recommend 13.75994 amazing 13.01322 controller 12.4507 graphics 12.32857 good 12.24711 son 12.08676 fun 11.91044 love 11.88205 played 11.46463 loves 10.58264 ps2 10.27503 ps 10.07317 im 9.99251 loved 9.85993 ps4 9.84151 fan 9.83784 recommended 9.53072 dont 9.47012 games 9.22187 highly 8.66026 excellent 8.37384 psp 8.22371 game 8.18574 enjoyed 8.03493 series 7.90338\n",
      "[20660 25091 24979 ... 17460 16605 11289]\n",
      "Topic: 9 -->\n",
      " great 36.61112 awesome 23.1032 vita 20.14291 best 17.3714 ps3 14.6513 recommend 13.73594 amazing 13.00362 controller 12.45273 graphics 12.34735 good 12.25333 son 12.06476 love 11.9298 fun 11.82871 played 11.46741 loves 10.58139 ps2 10.27633 ps 10.07742 im 9.99468 loved 9.86042 ps4 9.84425 fan 9.83649 recommended 9.53218 dont 9.46825 games 9.2275 highly 8.66284 excellent 8.3748 psp 8.22286 game 8.20078 enjoyed 8.03564 series 7.90486\n",
      "[20660 25091 24979 ... 13787 12341 16605]\n",
      "Topic: 10 -->\n",
      " great 38.3507 awesome 23.1081 vita 20.17906 best 17.34156 ps3 14.66186 recommend 13.76669 amazing 13.01082 controller 12.45796 graphics 12.34607 good 12.23123 son 12.10695 love 11.9675 fun 11.77952 played 11.49154 loves 10.58686 ps2 10.27807 ps 10.08464 im 9.99364 loved 9.86473 fan 9.84667 ps4 9.84628 recommended 9.5333 dont 9.47223 games 9.22373 highly 8.66424 excellent 8.37553 psp 8.22475 game 8.19127 enjoyed 8.0359 series 7.90589\n",
      "[20660 25091 24979 ... 12341 11289 16605]\n",
      "Topic: 11 -->\n",
      " great 39.34591 awesome 23.54743 vita 20.23725 best 17.42348 ps3 14.66006 recommend 13.82697 amazing 13.02919 controller 12.46105 graphics 12.37036 good 12.30719 son 12.08726 love 12.06792 fun 11.84858 played 11.50048 loves 10.59384 ps2 10.28018 ps 10.0906 im 10.00123 loved 9.87648 ps4 9.85029 fan 9.84289 recommended 9.53879 dont 9.47844 games 9.22787 highly 8.6673 excellent 8.37682 psp 8.22466 game 8.21463 enjoyed 8.03779 series 7.9077\n",
      "[20660 25091 24979 ... 21947 12341 16605]\n",
      "Topic: 12 -->\n",
      " great 32.61606 awesome 23.10965 vita 20.07958 best 17.16926 ps3 14.69962 recommend 13.70445 amazing 12.9968 controller 12.44301 graphics 12.31748 good 12.26525 son 12.15844 love 11.96844 fun 11.91619 played 11.45613 loves 10.57808 ps2 10.27089 ps 10.06582 im 9.9873 loved 9.85766 ps4 9.83765 fan 9.83539 recommended 9.52702 dont 9.46606 games 9.21496 highly 8.65707 excellent 8.37315 psp 8.22427 game 8.18557 enjoyed 8.03291 series 7.90113\n",
      "[20660 25091 24979 ... 16605 19009 11289]\n",
      "Topic: 13 -->\n",
      " game 15057.9657 fun 5895.41539 sims 5475.78827 new 5403.92128 like 4984.16639 play 4815.76326 love 3599.49475 great 3531.5391 buy 3504.67555 just 3426.13115 quot 3268.37106 really 2600.48741 time 2344.47151 playing 2246.23792 don 2239.46535 make 2199.70862 games 2166.05571 expansion 2074.11499 sim 2018.593 got 1985.8508 good 1970.9491 people 1878.69637 bought 1805.47576 lot 1780.99133 want 1689.42861 pack 1588.63202 34 1474.60909 version 1471.32154 things 1460.82527 money 1417.25195\n",
      "[17620 13553 24979 ...  7719  7795 11151]\n",
      "Topic: 14 -->\n",
      " great 39.37172 awesome 22.99502 vita 20.14097 best 17.18748 ps3 14.7083 recommend 13.69698 amazing 13.01693 controller 12.45292 graphics 12.33895 good 12.28537 son 12.15685 love 11.91466 fun 11.7299 played 11.45133 loves 10.58696 ps2 10.27777 ps 10.07561 im 9.99615 loved 9.86151 ps4 9.84462 fan 9.83727 recommended 9.53483 dont 9.46777 games 9.23139 highly 8.66131 excellent 8.37473 psp 8.22794 game 8.18687 enjoyed 8.03463 series 7.90459\n",
      "[20660 25091 24979 ... 16605 19009 11289]\n",
      "Topic: 15 -->\n",
      " great 41.03097 awesome 23.10751 vita 20.30423 best 17.45643 ps3 14.6495 recommend 13.73679 amazing 13.06971 controller 12.46708 graphics 12.39402 good 12.3534 son 12.07178 fun 12.00299 love 11.98098 played 11.50073 loves 10.59143 ps2 10.28383 ps 10.09964 im 10.00079 loved 9.88096 ps4 9.85239 fan 9.84958 recommended 9.54305 dont 9.47669 games 9.24859 highly 8.67007 excellent 8.37748 game 8.27088 psp 8.22481 enjoyed 8.03933 series 7.90916\n",
      "[20660 25091 24979 ... 13879 12341 21947]\n",
      "Topic: 16 -->\n",
      " great 34.07586 awesome 22.3786 vita 20.0911 best 17.3027 ps3 14.68698 recommend 13.67711 amazing 12.99605 controller 12.44285 graphics 12.31973 good 12.22217 son 12.12363 love 11.83377 fun 11.76432 played 11.46784 loves 10.57755 ps2 10.27225 ps 10.06724 im 9.98829 loved 9.85719 ps4 9.83826 fan 9.83681 recommended 9.52663 dont 9.46585 games 9.21864 highly 8.65613 excellent 8.37298 psp 8.22388 game 8.18872 enjoyed 8.03359 series 7.90171\n",
      "[20660 25091 24979 ... 19009 16605 11289]\n",
      "Topic: 17 -->\n",
      " great 36.17852 awesome 22.64064 vita 20.17948 best 17.37734 ps3 14.64 recommend 13.7165 amazing 13.0262 controller 12.45333 graphics 12.36913 good 12.2772 son 12.07299 love 11.92906 fun 11.9098 played 11.47194 loves 10.59025 ps2 10.27616 ps 10.08122 im 9.99715 loved 9.87333 ps4 9.84472 fan 9.84128 recommended 9.53253 dont 9.47392 games 9.22936 highly 8.66216 excellent 8.37488 game 8.22699 psp 8.22156 enjoyed 8.03612 series 7.90526\n",
      "[20660 25091 24979 ... 21947 12341 16605]\n",
      "Topic: 18 -->\n",
      " great 35.20359 awesome 22.67263 vita 20.0891 best 17.18619 ps3 14.73772 recommend 13.71596 amazing 13.00352 controller 12.44276 graphics 12.32687 good 12.25211 son 12.17813 fun 11.97648 love 11.88577 played 11.46433 loves 10.57774 ps2 10.27358 ps 10.06504 im 9.9893 loved 9.85592 fan 9.84443 ps4 9.83809 recommended 9.52949 dont 9.46766 games 9.21718 highly 8.65718 excellent 8.37348 psp 8.22768 game 8.18015 enjoyed 8.03333 la 7.93935\n",
      "[20660 25091 24979 ... 14989 11289 19009]\n",
      "Topic: 19 -->\n",
      " great 39.06458 awesome 23.80797 vita 20.26699 best 17.62402 ps3 14.64553 recommend 13.86482 amazing 13.03022 controller 12.46474 good 12.39275 graphics 12.38061 son 12.03136 love 12.00341 fun 11.97459 played 11.51402 loves 10.59317 ps2 10.28155 ps 10.09394 im 10.0078 loved 9.8715 fan 9.85275 ps4 9.85146 recommended 9.53979 dont 9.47983 games 9.23391 highly 8.67139 excellent 8.37741 game 8.26045 psp 8.22396 enjoyed 8.03833 series 7.90848\n",
      "[20660 25091 24979 ... 21961 13879 21947]\n",
      "Topic: 20 -->\n",
      " great 37.06875 awesome 22.71226 vita 20.14585 best 17.31119 ps3 14.64662 recommend 13.78321 amazing 13.00464 controller 12.45149 graphics 12.3636 good 12.28461 son 12.08539 love 11.90264 fun 11.82835 played 11.47767 loves 10.58551 ps2 10.27777 ps 10.07772 im 9.9936 loved 9.87125 ps4 9.84405 fan 9.83789 recommended 9.53239 dont 9.47288 games 9.22334 highly 8.66266 excellent 8.37452 psp 8.22337 game 8.1905 enjoyed 8.03599 series 7.90483\n",
      "[20660 25091 24979 ... 11289 12341 16605]\n",
      "Topic: 21 -->\n",
      " great 40.7246 awesome 23.00979 vita 20.23784 best 17.43456 ps3 14.65822 recommend 13.77504 amazing 13.024 controller 12.46622 graphics 12.36417 good 12.2581 son 12.06724 love 11.9818 fun 11.77815 played 11.49521 loves 10.58774 ps2 10.28156 ps 10.09285 im 10.00123 loved 9.87587 ps4 9.85038 fan 9.8405 recommended 9.53721 dont 9.47366 games 9.22085 highly 8.66698 excellent 8.37662 game 8.22735 psp 8.22465 enjoyed 8.03707 series 7.9078\n",
      "[20660 25091 24979 ... 21947 12341 16605]\n",
      "Topic: 22 -->\n",
      " great 41.57697 awesome 23.07836 vita 20.32317 best 17.59023 ps3 14.63718 recommend 13.83473 amazing 13.0404 controller 12.4711 graphics 12.38841 good 12.33174 love 12.29865 son 12.04629 fun 11.91063 played 11.50338 loves 10.6005 ps2 10.28441 ps 10.09955 im 10.00474 loved 9.89927 ps4 9.85389 fan 9.85205 recommended 9.54281 dont 9.47849 games 9.24065 highly 8.67265 excellent 8.37838 game 8.2686 psp 8.22513 enjoyed 8.03961 series 7.90986\n",
      "[20660 25091 24979 ... 21961 13879 21947]\n",
      "Topic: 23 -->\n",
      " great 40.52333 awesome 22.53567 vita 20.17892 best 17.27095 ps3 14.64143 recommend 13.81156 amazing 13.00535 controller 12.45569 graphics 12.37733 good 12.29486 son 12.05543 fun 11.90868 love 11.87823 played 11.47156 loves 10.59089 ps2 10.2792 ps 10.08212 im 9.99845 loved 9.86822 ps4 9.84794 fan 9.84175 recommended 9.53426 dont 9.47189 games 9.22394 highly 8.66538 excellent 8.37628 psp 8.22391 game 8.20529 enjoyed 8.03779 series 7.90707\n",
      "[20660 25091 24979 ... 21947 12341 16605]\n",
      "Topic: 24 -->\n",
      " great 34.61432 awesome 22.73957 vita 20.10299 best 17.13455 ps3 14.67183 recommend 13.78308 amazing 13.02718 controller 12.44558 graphics 12.32418 good 12.24404 son 12.13415 fun 11.99703 love 11.83917 played 11.45815 loves 10.58219 ps2 10.27335 ps 10.0699 im 9.99352 loved 9.85965 ps4 9.83967 fan 9.83428 recommended 9.52829 dont 9.46715 games 9.21658 highly 8.66022 excellent 8.37369 psp 8.22383 game 8.18743 enjoyed 8.03444 series 7.9022\n",
      "[20660 25091 24979 ... 19009 16605 11289]\n",
      "Topic: 25 -->\n",
      " great 36.64597 awesome 22.88539 vita 20.20258 best 17.52094 ps3 14.61319 recommend 13.79077 amazing 13.02283 controller 12.45864 graphics 12.37328 good 12.32284 son 12.01827 fun 12.00251 love 11.86409 played 11.49863 loves 10.58947 ps2 10.277 ps 10.08779 im 9.99726 loved 9.87022 ps4 9.84593 fan 9.84254 recommended 9.53387 dont 9.47276 games 9.22436 highly 8.66433 excellent 8.37556 game 8.23291 psp 8.2213 enjoyed 8.03662 series 7.90594\n",
      "[20660 25091 24979 ... 13879 12341 21947]\n",
      "Topic: 26 -->\n",
      " great 39.37627 awesome 22.90508 vita 20.20882 best 17.42986 ps3 14.63046 recommend 13.7592 amazing 13.01649 controller 12.46188 graphics 12.3597 good 12.35836 son 12.05469 love 11.97249 fun 11.75902 played 11.50193 loves 10.59024 ps2 10.28001 ps 10.08747 im 10.00074 loved 9.87898 ps4 9.84856 fan 9.84488 recommended 9.53806 dont 9.47396 games 9.23922 highly 8.66806 excellent 8.37637 psp 8.22354 game 8.21935 enjoyed 8.03751 series 7.90743\n",
      "[20660 25091 24979 ... 21947 12341 16605]\n",
      "Topic: 27 -->\n",
      " great 34.336 awesome 22.88675 vita 20.16779 best 17.27518 ps3 14.61722 recommend 13.75614 amazing 13.00876 controller 12.45393 good 12.33914 graphics 12.33153 fun 12.05742 son 12.04744 love 11.95355 played 11.48444 loves 10.57808 ps2 10.27467 ps 10.08274 im 9.99347 loved 9.8707 ps4 9.84294 fan 9.83915 recommended 9.53167 dont 9.47357 games 9.22347 highly 8.66334 excellent 8.37413 game 8.22192 psp 8.22027 enjoyed 8.0357 series 7.90424\n",
      "[20660 25091 24979 ... 21947 12341 16605]\n",
      "Topic: 28 -->\n",
      " great 37.49877 awesome 22.92422 vita 20.1654 best 17.33457 ps3 14.63854 recommend 13.75418 amazing 13.00964 controller 12.45478 graphics 12.34375 good 12.32462 son 12.04744 love 12.02784 fun 11.92783 played 11.47369 loves 10.58912 ps2 10.27836 ps 10.0798 im 9.99261 loved 9.8669 ps4 9.84563 fan 9.8377 recommended 9.53416 dont 9.47129 games 9.22059 highly 8.66414 excellent 8.37528 psp 8.22271 game 8.20924 enjoyed 8.03685 series 7.90608\n",
      "[20660 25091 24979 ... 21947 12341 16605]\n",
      "Topic: 29 -->\n",
      " game 86012.76283 like 21399.30555 games 17335.26755 just 16064.70797 play 15304.53596 good 13588.05526 really 12078.92708 great 11824.07262 time 11678.04807 graphics 11518.99221 fun 10185.48062 story 9197.37982 gameplay 7549.74578 best 7473.87017 don 7133.5226 way 7045.38188 playing 7044.58411 played 7024.82703 better 7016.50811 player 6769.03605 ve 6386.05842 new 6377.18871 mode 6167.12276 ll 5861.63692 make 5679.56488 different 5592.5576 level 5409.113 little 5339.90302 lot 5325.75666 characters 5166.15789\n",
      "[ 5192  5160  5158 ... 17620 25091 24979]\n",
      "Topic: 30 -->\n",
      " great 35.83402 awesome 22.66498 vita 20.22945 best 17.49879 ps3 14.64343 recommend 13.79865 amazing 13.03946 controller 12.45857 graphics 12.36008 good 12.29918 fun 12.13871 son 12.07294 love 11.9936 played 11.49966 loves 10.58824 ps2 10.27757 ps 10.08728 im 9.99613 loved 9.87543 ps4 9.84595 fan 9.8422 recommended 9.53416 dont 9.47304 games 9.23114 highly 8.66677 excellent 8.37542 game 8.24158 psp 8.22151 enjoyed 8.03719 series 7.90553\n",
      "[20660 25091 24979 ... 13787 21947 12341]\n",
      "Topic: 31 -->\n",
      " great 36.34014 awesome 23.42341 vita 20.19816 best 17.39985 ps3 14.63241 recommend 13.78508 amazing 13.02488 controller 12.45537 graphics 12.34922 good 12.29178 fun 12.10387 son 12.0522 love 11.94206 played 11.46337 loves 10.58738 ps2 10.27944 ps 10.08359 im 9.9973 loved 9.87341 ps4 9.84591 fan 9.84301 recommended 9.5337 dont 9.47287 games 9.22222 highly 8.6642 excellent 8.37524 psp 8.22266 game 8.20717 enjoyed 8.03629 series 7.90571\n",
      "[20660 25091 24979 ... 21947 12341 16605]\n",
      "Topic: 32 -->\n",
      " great 34.42476 awesome 22.563 vita 20.07576 best 17.16603 ps3 14.72776 recommend 13.72848 amazing 12.9903 controller 12.4421 graphics 12.32907 good 12.21884 son 12.16923 love 11.87975 fun 11.80416 played 11.4517 loves 10.57645 ps2 10.27059 ps 10.06323 im 9.98987 loved 9.8578 ps4 9.83659 fan 9.82773 recommended 9.52709 dont 9.4629 games 9.21273 highly 8.65552 excellent 8.37302 psp 8.22739 game 8.18451 enjoyed 8.03222 la 8.00586\n",
      "[20660 25091 24979 ... 14989 11289 19009]\n",
      "Topic: 33 -->\n",
      " great 40.64379 awesome 23.59656 vita 20.2999 best 17.55808 ps3 14.66295 recommend 13.76739 amazing 13.05822 controller 12.46712 graphics 12.38206 good 12.34256 son 12.0406 fun 12.00081 love 11.98972 played 11.50099 loves 10.60023 ps2 10.28505 ps 10.09874 im 10.00476 loved 9.89366 fan 9.85849 ps4 9.85272 recommended 9.54271 dont 9.47753 games 9.23485 highly 8.66869 excellent 8.37761 game 8.25923 psp 8.22484 enjoyed 8.03901 series 7.90907\n",
      "[20660 25091 24979 ... 13879 12341 21947]\n"
     ]
    }
   ],
   "source": [
    "display_topics(lda_H, lda_W, tf_feature_names, documents, 'LDASonyPos_34_1.9')"
   ]
  },
  {
   "cell_type": "markdown",
   "id": "4f0ad1bb",
   "metadata": {},
   "source": [
    "### GensimMicroPos"
   ]
  },
  {
   "cell_type": "code",
   "execution_count": null,
   "id": "631732a2",
   "metadata": {},
   "outputs": [],
   "source": []
  },
  {
   "cell_type": "markdown",
   "id": "b78326a0",
   "metadata": {},
   "source": [
    "### GensimMicroNeg"
   ]
  }
 ],
 "metadata": {
  "interpreter": {
   "hash": "916dbcbb3f70747c44a77c7bcd40155683ae19c65e1c03b4aa3499c5328201f1"
  },
  "kernelspec": {
   "display_name": "Python 3.10.4 64-bit",
   "language": "python",
   "name": "python3"
  },
  "language_info": {
   "codemirror_mode": {
    "name": "ipython",
    "version": 3
   },
   "file_extension": ".py",
   "mimetype": "text/x-python",
   "name": "python",
   "nbconvert_exporter": "python",
   "pygments_lexer": "ipython3",
   "version": "3.10.4"
  }
 },
 "nbformat": 4,
 "nbformat_minor": 5
}
