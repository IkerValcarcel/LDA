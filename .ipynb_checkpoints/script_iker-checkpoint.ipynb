{
 "cells": [
  {
   "cell_type": "code",
   "execution_count": 1,
   "id": "a382f702",
   "metadata": {},
   "outputs": [],
   "source": [
    "import os\n",
    "import json\n",
    "import gzip\n",
    "import pandas as pd\n",
    "from urllib.request import urlopen\n",
    "\n",
    "import random\n",
    "import numpy as np\n",
    "from tqdm import tqdm_notebook as tqdm\n",
    "#from tqdm import tqdm.notebook.tqdm as tqdm\n",
    "from collections import defaultdict\n",
    "\n",
    "import warnings\n",
    "warnings.filterwarnings(\"ignore\")"
   ]
  },
  {
   "cell_type": "markdown",
   "id": "f240d779",
   "metadata": {},
   "source": [
    "## Se importan los dataframes "
   ]
  },
  {
   "cell_type": "code",
   "execution_count": 2,
   "id": "d93b9346",
   "metadata": {},
   "outputs": [],
   "source": [
    "# load all metadata\n",
    "#hau nire diskan daukat SAD karpetan 2020-2021\n",
    "\n",
    "video_games = []#\n",
    "insurances = []   \n",
    "#dfMergedfMeta= pd.read_csv('Cell_Phones/SamsungAppleXiaomiReviews_prueba.csv')\n",
    "video_games= pd.read_csv('VG-Reviews5AndMetaElecNintSonyMic_v2.csv')\n",
    "insurances = pd.read_csv('HRBlockIntuitReviewsTrainDev_vLast7.csv', low_memory=False)\n"
   ]
  },
  {
   "cell_type": "code",
   "execution_count": 3,
   "id": "27c616d9",
   "metadata": {
    "scrolled": true
   },
   "outputs": [
    {
     "data": {
      "text/plain": [
       "Index(['Unnamed: 0', 'asin', 'vote', 'style', 'feature', 'similar_item',\n",
       "       'brand', 'also_buy', 'category', 'title', 'main_cat', 'description',\n",
       "       'reviewTime', 'overall', 'reviewerID', 'reviewerName', 'unixReviewTime',\n",
       "       'reviewText', 'summary', 'City', 'State', 'Country', 'Postal Code'],\n",
       "      dtype='object')"
      ]
     },
     "execution_count": 3,
     "metadata": {},
     "output_type": "execute_result"
    }
   ],
   "source": [
    "video_games.keys()"
   ]
  },
  {
   "cell_type": "code",
   "execution_count": 4,
   "id": "5021b42d",
   "metadata": {
    "scrolled": false
   },
   "outputs": [
    {
     "data": {
      "text/plain": [
       "by\\n    \\n    Electronic Arts                        19949\n",
       "by\\n    \\n    Nintendo                               16812\n",
       "by\\n    \\n    Sony                                   10915\n",
       "by\\n    \\n    Microsoft                               8810\n",
       "Nintendo                                              4660\n",
       "Electronic Arts                                       1780\n",
       "Sony                                                  1697\n",
       "Microsoft                                             1230\n",
       "Sony Computer Entertainment                            438\n",
       "by\\n    \\n    Sony Computer Entertainment America      106\n",
       "Nintendo of America                                     98\n",
       "Electronic Arts, Inc.                                   78\n",
       "by\\n    \\n    Sony Computer Entertainment               74\n",
       "Sony Entertainment                                      52\n",
       "Microsoft Corporation                                   44\n",
       "Super Nintendo Super Castlevania IV                     22\n",
       "Electronc Arts                                          20\n",
       "Electrobrain and Hudson                                  6\n",
       "by\\n    \\n    Sony Online Entertainment                  5\n",
       "Name: brand, dtype: int64"
      ]
     },
     "execution_count": 4,
     "metadata": {},
     "output_type": "execute_result"
    }
   ],
   "source": [
    "video_games['brand'].value_counts()"
   ]
  },
  {
   "cell_type": "code",
   "execution_count": 5,
   "id": "f5327286",
   "metadata": {},
   "outputs": [
    {
     "data": {
      "text/plain": [
       "Index(['Unnamed: 0', 'asin', 'brand', 'price', 'title', 'Unnamed: 5',\n",
       "       'category', 'rank', 'description', 'main_cat', 'details', 'overall',\n",
       "       'vote_y', 'verified_y', 'reviewTime_y', 'reviewerID_y',\n",
       "       'reviewerName_y', 'reviewText', 'summary', 'unixReviewTime', 'State',\n",
       "       'Country', 'Postal Code'],\n",
       "      dtype='object')"
      ]
     },
     "execution_count": 5,
     "metadata": {},
     "output_type": "execute_result"
    }
   ],
   "source": [
    "insurances.keys()"
   ]
  },
  {
   "cell_type": "code",
   "execution_count": 6,
   "id": "02b5c3f1",
   "metadata": {},
   "outputs": [
    {
     "data": {
      "text/plain": [
       "Intuit                              72752\n",
       "H&R Block                           16242\n",
       "by\\n    \\n    Intuit                 9488\n",
       "HRBB9                                 657\n",
       "H&amp;R Block                         358\n",
       "by\\n    \\n    H&R Block               195\n",
       "Intuit, Inc.                           27\n",
       "H&R BLCOK                              17\n",
       "John Truby Blockbuster                 15\n",
       "Video Blocks                            4\n",
       "Administaff HRTools                     4\n",
       "H & R Block                             4\n",
       "Intuit Inc.                             3\n",
       "Teneron/Block Financial Software        3\n",
       "H&R                                     3\n",
       "H&R BLOCK                               2\n",
       "Intuit Inc./BlueHippo                   2\n",
       "Name: brand, dtype: int64"
      ]
     },
     "execution_count": 6,
     "metadata": {},
     "output_type": "execute_result"
    }
   ],
   "source": [
    "insurances['brand'].value_counts()"
   ]
  },
  {
   "cell_type": "markdown",
   "id": "fb8d878d",
   "metadata": {},
   "source": [
    "## Se obtienen en dataframes aparte las distintas marcas"
   ]
  },
  {
   "cell_type": "code",
   "execution_count": 7,
   "id": "ce6d3f0b",
   "metadata": {},
   "outputs": [],
   "source": [
    "dfNintendo = video_games[video_games['brand'].str.contains('Nintendo',na=False)]"
   ]
  },
  {
   "cell_type": "code",
   "execution_count": 8,
   "id": "995cf11d",
   "metadata": {},
   "outputs": [],
   "source": [
    "dfSony = video_games[video_games['brand'].str.contains('Sony|PlayStation|Electr',na=False)]"
   ]
  },
  {
   "cell_type": "code",
   "execution_count": 9,
   "id": "d4ae4961",
   "metadata": {},
   "outputs": [],
   "source": [
    "dfMicrosoft = video_games[video_games['brand'].str.contains('[M|m]icrosoft',na=False)]"
   ]
  },
  {
   "cell_type": "code",
   "execution_count": 10,
   "id": "96115ce4",
   "metadata": {},
   "outputs": [],
   "source": [
    "dfIntuit = insurances[insurances['brand'].str.contains('Intuit')]"
   ]
  },
  {
   "cell_type": "code",
   "execution_count": 11,
   "id": "53c304ad",
   "metadata": {},
   "outputs": [],
   "source": [
    "dfHR = insurances[~insurances['brand'].str.contains('Intuit')]"
   ]
  },
  {
   "cell_type": "markdown",
   "id": "595e0f62",
   "metadata": {},
   "source": [
    "## Se separan las reviews negativas y positivas de cada dataframe"
   ]
  },
  {
   "cell_type": "code",
   "execution_count": 12,
   "id": "faa65796",
   "metadata": {},
   "outputs": [],
   "source": [
    "dfNintendoPositives=dfNintendo[dfNintendo['overall']>3]\n",
    "dfNintendoNegatives=dfNintendo[dfNintendo['overall']<=3]"
   ]
  },
  {
   "cell_type": "code",
   "execution_count": 13,
   "id": "61624c7e",
   "metadata": {},
   "outputs": [],
   "source": [
    "dfSonyPositives=dfSony[dfSony['overall']>3]\n",
    "dfSonyNegatives=dfSony[dfSony['overall']<=3]"
   ]
  },
  {
   "cell_type": "code",
   "execution_count": 14,
   "id": "8e062310",
   "metadata": {},
   "outputs": [],
   "source": [
    "dfMicrosoftPositives=dfMicrosoft[dfMicrosoft['overall']>3]\n",
    "dfMicrosoftNegatives=dfMicrosoft[dfMicrosoft['overall']<=3]"
   ]
  },
  {
   "cell_type": "code",
   "execution_count": 15,
   "id": "61e2f2c2",
   "metadata": {},
   "outputs": [],
   "source": [
    "dfIntuitPositives = dfIntuit[dfIntuit['overall']>3]\n",
    "dfIntuitNegatives = dfIntuit[dfIntuit['overall']<=3]"
   ]
  },
  {
   "cell_type": "code",
   "execution_count": 16,
   "id": "684535e0",
   "metadata": {},
   "outputs": [],
   "source": [
    "dfHRPositives = dfHR[dfHR['overall']>3]\n",
    "dfHRNegatives = dfHR[dfHR['overall']<=3]"
   ]
  },
  {
   "cell_type": "markdown",
   "id": "8d7158fc",
   "metadata": {},
   "source": [
    "## Se obtienen las text reviews"
   ]
  },
  {
   "cell_type": "code",
   "execution_count": 17,
   "id": "8142ad75",
   "metadata": {},
   "outputs": [],
   "source": [
    "nintendoPositivesDocuments = dfNintendoPositives[dfNintendoPositives['reviewText'].notna()]['reviewText'].tolist()\n",
    "nintendoNegativesDocuments = dfNintendoNegatives[dfNintendoNegatives['reviewText'].notna()]['reviewText'].tolist()"
   ]
  },
  {
   "cell_type": "code",
   "execution_count": 18,
   "id": "973ae4fa",
   "metadata": {},
   "outputs": [],
   "source": [
    "sonyPositivesDocuments = dfSonyPositives[dfSonyPositives['reviewText'].notna()]['reviewText'].tolist()\n",
    "sonyNegativesDocuments = dfSonyNegatives[dfSonyNegatives['reviewText'].notna()]['reviewText'].tolist()"
   ]
  },
  {
   "cell_type": "code",
   "execution_count": 19,
   "id": "78a66c4e",
   "metadata": {},
   "outputs": [],
   "source": [
    "microsoftPositivesDocuments = dfMicrosoftPositives[dfMicrosoftPositives['reviewText'].notna()]['reviewText'].tolist()\n",
    "microsoftNegativesDocuments = dfMicrosoftNegatives[dfMicrosoftNegatives['reviewText'].notna()]['reviewText'].tolist()"
   ]
  },
  {
   "cell_type": "code",
   "execution_count": 20,
   "id": "bcc85b9d",
   "metadata": {},
   "outputs": [],
   "source": [
    "intuitPositivesDocuments = dfIntuitPositives[dfIntuitPositives['reviewText'].notna()]['reviewText'].tolist()\n",
    "intuitNegativesDocuments = dfIntuitNegatives[dfIntuitNegatives['reviewText'].notna()]['reviewText'].tolist()"
   ]
  },
  {
   "cell_type": "code",
   "execution_count": 21,
   "id": "523a0f1b",
   "metadata": {},
   "outputs": [],
   "source": [
    "HRPositivesDocuments = dfHRPositives[dfHRPositives['reviewText'].notna()]['reviewText'].tolist()\n",
    "HRNegativesDocuments = dfHRNegatives[dfHRNegatives['reviewText'].notna()]['reviewText'].tolist()"
   ]
  },
  {
   "cell_type": "markdown",
   "id": "94968efd",
   "metadata": {},
   "source": [
    "## LDA"
   ]
  },
  {
   "cell_type": "code",
   "execution_count": 60,
   "id": "b5c11086",
   "metadata": {},
   "outputs": [],
   "source": [
    "def display_topics(H, W, feature_names, documents, no_top_words, no_top_documents):\n",
    "    f = open(test + \".txt\", \"a\")\n",
    "    for topic_idx, topic in enumerate(H):\n",
    "        \n",
    "        topic_num = \"Topic %d:\" % (topic_idx)\n",
    "        f.write(topic_num + '\\n\\n')\n",
    "        print(\"Topic %d:\" % (topic_idx))\n",
    "        \n",
    "        print(\" \".join([feature_names[i]\n",
    "                        for i in topic.argsort()[:-no_top_words - 1:-1]]))\n",
    "        top_doc_indices = np.argsort( W[:,topic_idx] )[::-1][0:no_top_documents]\n",
    "        for doc_index in top_doc_indices:\n",
    "            print(documents[doc_index])\n",
    "    f.close()"
   ]
  },
  {
   "cell_type": "code",
   "execution_count": 23,
   "id": "9434c476",
   "metadata": {},
   "outputs": [],
   "source": [
    "from sklearn.feature_extraction.text import TfidfVectorizer, CountVectorizer\n",
    "from sklearn.decomposition import LatentDirichletAllocation"
   ]
  },
  {
   "cell_type": "markdown",
   "id": "a6bc5818",
   "metadata": {},
   "source": [
    "### LDASonyNeg_29_1.9"
   ]
  },
  {
   "cell_type": "code",
   "execution_count": 24,
   "id": "fc97a5d2",
   "metadata": {},
   "outputs": [],
   "source": [
    "no_topics = 29\n",
    "\n",
    "alpha = 1.9\n",
    "beta = 1.9\n",
    "\n",
    "documents = sonyNegativesDocuments"
   ]
  },
  {
   "cell_type": "code",
   "execution_count": 25,
   "id": "9b1bd10c",
   "metadata": {},
   "outputs": [],
   "source": [
    "tf_vectorizer = CountVectorizer(max_df=0.95, min_df=2, stop_words='english')\n",
    "tf = tf_vectorizer.fit_transform(documents)\n",
    "tf_feature_names = tf_vectorizer.get_feature_names()"
   ]
  },
  {
   "cell_type": "code",
   "execution_count": 26,
   "id": "62f9911c",
   "metadata": {},
   "outputs": [],
   "source": [
    "lda_model = LatentDirichletAllocation(n_components=no_topics, doc_topic_prior=alpha, topic_word_prior=beta, max_iter=100, learning_method='online', learning_offset=50.,random_state=0).fit(tf)\n",
    "lda_W = lda_model.transform(tf)\n",
    "lda_H = lda_model.components_"
   ]
  },
  {
   "cell_type": "code",
   "execution_count": 61,
   "id": "510d5c19",
   "metadata": {},
   "outputs": [
    {
     "name": "stdout",
     "output_type": "stream",
     "text": [
      "Topic 0:\n",
      "21998\n",
      "dont bought waste drm ok sucks boring buy money kids ps4 recommend didnt bucks purchased securom horrible windows im okay pets product ssx thats amazon steam tycoon goldeneye vita ps2\n",
      "el juego fue parte del combo para la PS3 80GB, asi que uno siempre le busca el lado positivo.pero un juego que se jacta de soportar hasta 12 jugadores, como es posible que no sea capaz de simplemente dejar que dos controles se conecten y puedan jugar.uno se pregunta si los dise&ntilde;adores son inexpertos o simplemente no les importa ofrecer un buen producto para obligarlo a comprar otro.  verdaderamente una decepcion.en si el juego es bueno sino fuera por lo anterior y definitivamente no vale la pena comprarlo.\n",
      "El juego es divertido, buena acci&oacute;n... algunos fallos pero nada que lamentar.El envio como siempre fue de calidad, Amazon siempre me ha cumplido.\n",
      "Compr&eacute; este juego basado en comentarios y en un poco de nostalgia por otros juegos de boxeo, sin embargo, esperaba m&aacute;s'. ahora lo tengo guardado esperando que alguien me lo pida prestado pra no verlo mas...\n",
      "Este juego es solo para ser jugado en red, tremenda limitante!!! Tomen esto en consideraci&oacute;n cuando decidan comprar este juego.\n",
      "el material; deja bastante q descear no luce muy bien y la calidad es bastante pobre para ser un articulo oficial de sony y psvita\n",
      "When you can't get team/player ratings right you can't make a good Baseball game.Overall1. NL All-Stars2. AL All-Stars3. Yankees4. Red Sox5. Cardinals6. Mariners7. White Sox8. Cubs9. Blue Jays10. Astros11. Phillies12. Orioles13. Angels14. Athletics15. Royals16. Marlins17. Diamondbacks18. Expos19. Braves20. Dodgers21. Twins22. Rangers23. Giants24. Rockies25. Padres26. Indians27. Devil Rays28. Mets29. Tigers30. Brewers31. Pirates32. RedsPitching1. Yankees2. NL All-Stars3. AL All-Stars4. Cubs5. Athletics6. Dodgers7. Red Sox8. Mariners9. Marlins10. Blue Jays11. Phillies12. Expos13. Astros14. Giants15. White Sox16. Mets17. Angels18. Cardinals19. Diamondbacks20. Indians21. Braves22. Padres23. Royals24. Devil Rays25. Twins26. Orioles27. Pirates28. Brewers29. Reds30. Tigers31. Rockies32. RangersBatting1. NL All-Stars2. AL All-Stars3. Red Sox4. Cardinals5. Yankees6. Orioles7. Rockies8. White Sox9. Blue Jays10. Rangers11. Royals12. Angels13. Braves14. Astros15. Diamondbacks16. Cubs17. Twins18. Padres19. Phillies20. Mariners21. Indians22. Tigers23. Expos24. Athletics25. Devil Rays26. Brewers27. Giants28. Reds29. Marlins30. Pirates31. Mets32. DodgersDefense1.Mariners2. Giants3. Phillies4. Orioles5. AL All-Stars6. Astros7. NL All-Stars8. Marlins9. Diamondbacks10. Twins11. Athletics12. Cardinals13. White Sox14. Devil Rays15. Rangers16. Padres17. Brewers18. Yankees19. Rockies20. Royals21. Indians22. Braves23. Reds24. Dodgers25. Expos26. Pirates27. Mets28. Blue Jays29. Angels30. Cubs31. Red Sox32. TigersSpeed1. AL All-Stars2. NL All-Stars3. Yankees4. Mariners5. Devil Rays6. Marlins7. Royals8. Tigers9. Angels10. Dodgers11. Rangers12. Expos13. Cardinals14. Red Sox15. Twins16. Orioles17. Brewers18. Indians19. Phillies20. Mets21. Braves22. Diamondbacks23. Cubs24. Astros25. Padres26. Pirates27. White Sox28. Rockies29. Giants30. Reds31. Athletics32. Blue Jays\n",
      "When you can't get team/player ratings right you can't make a good Baseball game.Overall1. NL All-Stars2. AL All-Stars3. Yankees4. Red Sox5. Cardinals6. Mariners7. White Sox8. Cubs9. Blue Jays10. Astros11. Phillies12. Orioles13. Angels14. Athletics15. Royals16. Marlins17. Diamondbacks18. Expos19. Braves20. Dodgers21. Twins22. Rangers23. Giants24. Rockies25. Padres26. Indians27. Devil Rays28. Mets29. Tigers30. Brewers31. Pirates32. RedsPitching1. Yankees2. NL All-Stars3. AL All-Stars4. Cubs5. Athletics6. Dodgers7. Red Sox8. Mariners9. Marlins10. Blue Jays11. Phillies12. Expos13. Astros14. Giants15. White Sox16. Mets17. Angels18. Cardinals19. Diamondbacks20. Indians21. Braves22. Padres23. Royals24. Devil Rays25. Twins26. Orioles27. Pirates28. Brewers29. Reds30. Tigers31. Rockies32. RangersBatting1. NL All-Stars2. AL All-Stars3. Red Sox4. Cardinals5. Yankees6. Orioles7. Rockies8. White Sox9. Blue Jays10. Rangers11. Royals12. Angels13. Braves14. Astros15. Diamondbacks16. Cubs17. Twins18. Padres19. Phillies20. Mariners21. Indians22. Tigers23. Expos24. Athletics25. Devil Rays26. Brewers27. Giants28. Reds29. Marlins30. Pirates31. Mets32. DodgersDefense1.Mariners2. Giants3. Phillies4. Orioles5. AL All-Stars6. Astros7. NL All-Stars8. Marlins9. Diamondbacks10. Twins11. Athletics12. Cardinals13. White Sox14. Devil Rays15. Rangers16. Padres17. Brewers18. Yankees19. Rockies20. Royals21. Indians22. Braves23. Reds24. Dodgers25. Expos26. Pirates27. Mets28. Blue Jays29. Angels30. Cubs31. Red Sox32. TigersSpeed1. AL All-Stars2. NL All-Stars3. Yankees4. Mariners5. Devil Rays6. Marlins7. Royals8. Tigers9. Angels10. Dodgers11. Rangers12. Expos13. Cardinals14. Red Sox15. Twins16. Orioles17. Brewers18. Indians19. Phillies20. Mets21. Braves22. Diamondbacks23. Cubs24. Astros25. Padres26. Pirates27. White Sox28. Rockies29. Giants30. Reds31. Athletics32. Blue Jays\n",
      "El juego es excelente, el online medio fastidioso pero bueno hay que acostumbrarse... algunos fallos pero nada que lamentar.El envio como siempre fue de calidad, Amazon siempre me ha cumplido.\n",
      "To complicated\n",
      "To complicated\n",
      "Topic 1:\n",
      "183\n"
     ]
    },
    {
     "ename": "IndexError",
     "evalue": "string index out of range",
     "output_type": "error",
     "traceback": [
      "\u001b[0;31m---------------------------------------------------------------------------\u001b[0m",
      "\u001b[0;31mIndexError\u001b[0m                                Traceback (most recent call last)",
      "Input \u001b[0;32mIn [61]\u001b[0m, in \u001b[0;36m<cell line: 1>\u001b[0;34m()\u001b[0m\n\u001b[0;32m----> 1\u001b[0m \u001b[43mdisplay_topics\u001b[49m\u001b[43m(\u001b[49m\u001b[43mlda_H\u001b[49m\u001b[43m,\u001b[49m\u001b[43m \u001b[49m\u001b[43mlda_W\u001b[49m\u001b[43m,\u001b[49m\u001b[43m \u001b[49m\u001b[43mtf_feature_names\u001b[49m\u001b[43m,\u001b[49m\u001b[43m \u001b[49m\u001b[43mdocuments\u001b[49m\u001b[43m,\u001b[49m\u001b[43m \u001b[49m\u001b[38;5;124;43m'\u001b[39;49m\u001b[38;5;124;43mLDASonyNeg_29_1.9\u001b[39;49m\u001b[38;5;124;43m'\u001b[39;49m\u001b[43m)\u001b[49m\n",
      "Input \u001b[0;32mIn [60]\u001b[0m, in \u001b[0;36mdisplay_topics\u001b[0;34m(H, W, feature_names, documents, test, no_top_words, no_top_documents)\u001b[0m\n\u001b[1;32m     12\u001b[0m     n_top_words \u001b[38;5;241m=\u001b[39m no_top_words\n\u001b[1;32m     13\u001b[0m \u001b[38;5;28mprint\u001b[39m(\u001b[38;5;28mlen\u001b[39m(feature_names))\n\u001b[0;32m---> 14\u001b[0m feature_names \u001b[38;5;241m=\u001b[39m \u001b[38;5;124m\"\u001b[39m\u001b[38;5;124m \u001b[39m\u001b[38;5;124m\"\u001b[39m\u001b[38;5;241m.\u001b[39mjoin([feature_names[i]\n\u001b[1;32m     15\u001b[0m                 \u001b[38;5;28;01mfor\u001b[39;00m i \u001b[38;5;129;01min\u001b[39;00m topic\u001b[38;5;241m.\u001b[39margsort()[:\u001b[38;5;241m-\u001b[39mn_top_words \u001b[38;5;241m-\u001b[39m \u001b[38;5;241m1\u001b[39m:\u001b[38;5;241m-\u001b[39m\u001b[38;5;241m1\u001b[39m]])\n\u001b[1;32m     16\u001b[0m f\u001b[38;5;241m.\u001b[39mwrite(feature_names \u001b[38;5;241m+\u001b[39m \u001b[38;5;124m'\u001b[39m\u001b[38;5;130;01m\\n\u001b[39;00m\u001b[38;5;130;01m\\n\u001b[39;00m\u001b[38;5;124m'\u001b[39m)\n\u001b[1;32m     17\u001b[0m \u001b[38;5;28mprint\u001b[39m(feature_names)\n",
      "Input \u001b[0;32mIn [60]\u001b[0m, in \u001b[0;36m<listcomp>\u001b[0;34m(.0)\u001b[0m\n\u001b[1;32m     12\u001b[0m     n_top_words \u001b[38;5;241m=\u001b[39m no_top_words\n\u001b[1;32m     13\u001b[0m \u001b[38;5;28mprint\u001b[39m(\u001b[38;5;28mlen\u001b[39m(feature_names))\n\u001b[0;32m---> 14\u001b[0m feature_names \u001b[38;5;241m=\u001b[39m \u001b[38;5;124m\"\u001b[39m\u001b[38;5;124m \u001b[39m\u001b[38;5;124m\"\u001b[39m\u001b[38;5;241m.\u001b[39mjoin([\u001b[43mfeature_names\u001b[49m\u001b[43m[\u001b[49m\u001b[43mi\u001b[49m\u001b[43m]\u001b[49m\n\u001b[1;32m     15\u001b[0m                 \u001b[38;5;28;01mfor\u001b[39;00m i \u001b[38;5;129;01min\u001b[39;00m topic\u001b[38;5;241m.\u001b[39margsort()[:\u001b[38;5;241m-\u001b[39mn_top_words \u001b[38;5;241m-\u001b[39m \u001b[38;5;241m1\u001b[39m:\u001b[38;5;241m-\u001b[39m\u001b[38;5;241m1\u001b[39m]])\n\u001b[1;32m     16\u001b[0m f\u001b[38;5;241m.\u001b[39mwrite(feature_names \u001b[38;5;241m+\u001b[39m \u001b[38;5;124m'\u001b[39m\u001b[38;5;130;01m\\n\u001b[39;00m\u001b[38;5;130;01m\\n\u001b[39;00m\u001b[38;5;124m'\u001b[39m)\n\u001b[1;32m     17\u001b[0m \u001b[38;5;28mprint\u001b[39m(feature_names)\n",
      "\u001b[0;31mIndexError\u001b[0m: string index out of range"
     ]
    }
   ],
   "source": [
    "display_topics(lda_H, lda_W, tf_feature_names, documents, 'LDASonyNeg_29_1.9')"
   ]
  },
  {
   "cell_type": "markdown",
   "id": "22246753",
   "metadata": {},
   "source": [
    "### LDAMicroPos_21_1.9"
   ]
  },
  {
   "cell_type": "code",
   "execution_count": null,
   "id": "a88bbc21",
   "metadata": {},
   "outputs": [],
   "source": [
    "no_topics = 21\n",
    "\n",
    "alpha = 1.9\n",
    "beta = 1.9\n",
    "\n",
    "documents = microsoftPositivesDocuments"
   ]
  },
  {
   "cell_type": "code",
   "execution_count": null,
   "id": "3ddadbf4",
   "metadata": {},
   "outputs": [],
   "source": [
    "tf_vectorizer = CountVectorizer(max_df=0.95, min_df=2, stop_words='english')\n",
    "tf = tf_vectorizer.fit_transform(documents)\n",
    "tf_feature_names = tf_vectorizer.get_feature_names()"
   ]
  },
  {
   "cell_type": "code",
   "execution_count": null,
   "id": "082b9d0d",
   "metadata": {},
   "outputs": [],
   "source": [
    "lda_model = LatentDirichletAllocation(n_components=no_topics, doc_topic_prior=alpha, topic_word_prior=beta, max_iter=100, learning_method='online', learning_offset=50.,random_state=0).fit(tf)\n",
    "lda_W = lda_model.transform(tf)\n",
    "lda_H = lda_model.components_"
   ]
  },
  {
   "cell_type": "code",
   "execution_count": null,
   "id": "cf4fa281",
   "metadata": {},
   "outputs": [],
   "source": [
    "display_topics(lda_H, lda_W, tf_feature_names, documents, 'LDAMicroPos_21_1.9')"
   ]
  },
  {
   "cell_type": "markdown",
   "id": "49ae21eb",
   "metadata": {},
   "source": [
    "### LDAMicroNeg_16_1.9"
   ]
  },
  {
   "cell_type": "code",
   "execution_count": null,
   "id": "bab864ce",
   "metadata": {},
   "outputs": [],
   "source": [
    "no_topics = 16\n",
    "\n",
    "alpha = 1.9\n",
    "beta = 1.9\n",
    "\n",
    "documents = microsoftNegativesDocuments"
   ]
  },
  {
   "cell_type": "code",
   "execution_count": null,
   "id": "a19f7796",
   "metadata": {},
   "outputs": [],
   "source": [
    "tf_vectorizer = CountVectorizer(max_df=0.95, min_df=2, stop_words='english')\n",
    "tf = tf_vectorizer.fit_transform(documents)\n",
    "tf_feature_names = tf_vectorizer.get_feature_names()"
   ]
  },
  {
   "cell_type": "code",
   "execution_count": null,
   "id": "eafadc48",
   "metadata": {},
   "outputs": [],
   "source": [
    "lda_model = LatentDirichletAllocation(n_components=no_topics, doc_topic_prior=alpha, topic_word_prior=beta, max_iter=100, learning_method='online', learning_offset=50.,random_state=0).fit(tf)\n",
    "lda_W = lda_model.transform(tf)\n",
    "lda_H = lda_model.components_"
   ]
  },
  {
   "cell_type": "code",
   "execution_count": null,
   "id": "ee75c5b1",
   "metadata": {},
   "outputs": [],
   "source": [
    "display_topics(lda_H, lda_W, tf_feature_names, documents, 'LDAMicroNeg_16_1.9')"
   ]
  },
  {
   "cell_type": "markdown",
   "id": "b340d8b4",
   "metadata": {},
   "source": [
    "### GensimMicroPos"
   ]
  },
  {
   "cell_type": "code",
   "execution_count": null,
   "id": "6679734f",
   "metadata": {},
   "outputs": [],
   "source": []
  },
  {
   "cell_type": "markdown",
   "id": "2ad824f0",
   "metadata": {},
   "source": [
    "### GensimMicroNeg"
   ]
  },
  {
   "cell_type": "code",
   "execution_count": null,
   "id": "e87ec5bb",
   "metadata": {},
   "outputs": [],
   "source": []
  }
 ],
 "metadata": {
  "kernelspec": {
   "display_name": "Python 3 (ipykernel)",
   "language": "python",
   "name": "python3"
  },
  "language_info": {
   "codemirror_mode": {
    "name": "ipython",
    "version": 3
   },
   "file_extension": ".py",
   "mimetype": "text/x-python",
   "name": "python",
   "nbconvert_exporter": "python",
   "pygments_lexer": "ipython3",
   "version": "3.10.4"
  }
 },
 "nbformat": 4,
 "nbformat_minor": 5
}
